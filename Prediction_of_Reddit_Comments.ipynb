{
  "cells": [
    {
      "cell_type": "markdown",
      "metadata": {
        "id": "aaMEM1JQqnQ2"
      },
      "source": [
        "# Web Scraping for Reddit & Predicting Comments\n",
        "\n"
      ]
    },
    {
      "cell_type": "markdown",
      "metadata": {
        "ExecuteTime": {
          "end_time": "2017-10-23T19:28:02.619411Z",
          "start_time": "2017-10-23T19:28:02.600856Z"
        },
        "id": "_45I7IjvqnQ3"
      },
      "source": [
        "## Problem Statement\n",
        "\n",
        "Determine which characteristics of a post on Reddit contribute most to the overall interaction as measured by number of comments.\n",
        "\n",
        "\n",
        "## Preamble\n",
        "\n",
        "In this project, we practiced some essential skills:\n",
        "\n",
        "- Collecting data by scraping a website using the Python package `requests` and using the Python library `BeautifulSoup` which efficiently extracts HTML code. We scraped the 'hot' threads as listed on the [Reddit homepage](https://www.reddit.com/) and acquired the following pieces of information about each thread:\n",
        "\n",
        "   - The title of the thread\n",
        "   - subreddit that the thread corresponds to\n",
        "   - The length of time it has been up on Reddit\n",
        "   - The number of comments on the thread\n",
        "\n",
        "- Using Natural Language Processing (NLP) techniques to preprocess the data. NLP, in a nutshell, is \"how to transform text data and convert it to features that enable us to build models.\" These techniques include:\n",
        "\n",
        "    - Tokenization (splitting text into pieces based on given patterns)\n",
        "    - Removing stopwords\n",
        "    - Stemming (returns the base form of the word)\n",
        "    - Lemmatization (return the word's *lemma*)\n",
        "\n",
        "- After the step above we obtain *numerical* features which allow for algebraic computations. We then build a `RandomForestClassifier` and use it to classify each post according to the corresponding number of comments associated with it. More concretely the model predicts whether or not a given Reddit post will have above or below the _median_ number of comments."
      ]
    },
    {
      "cell_type": "markdown",
      "metadata": {
        "id": "eKnPu4rrqnQ5"
      },
      "source": [
        "## 1) Importing\n",
        "\n",
        "We first need to  `import`  the necessary packages"
      ]
    },
    {
      "cell_type": "code",
      "execution_count": null,
      "metadata": {
        "id": "b5yrgJKiqnQ5"
      },
      "outputs": [],
      "source": [
        "from IPython.core.interactiveshell import InteractiveShell\n",
        "InteractiveShell.ast_node_interactivity = \"all\" # see the value of multiple statements at once.\n",
        "from sklearn.model_selection import cross_val_score, StratifiedKFold, train_test_split, GridSearchCV\n",
        "from sklearn.tree import DecisionTreeClassifier\n",
        "from sklearn.ensemble import RandomForestClassifier, ExtraTreesClassifier, BaggingClassifier\n",
        "from sklearn.linear_model import LogisticRegression, LogisticRegressionCV\n",
        "from sklearn.feature_extraction.text import CountVectorizer, HashingVectorizer, TfidfVectorizer, TfidfTransformer\n",
        "import requests\n",
        "from bs4 import BeautifulSoup\n",
        "import json\n",
        "import datetime\n",
        "import csv\n",
        "import time\n",
        "import pandas as pd\n",
        "import seaborn as sns\n",
        "import numpy as np\n",
        "from nltk.corpus import stopwords\n",
        "from nltk.stem import PorterStemmer\n",
        "from sklearn.metrics import confusion_matrix\n",
        "import matplotlib.pyplot as plt\n",
        "%matplotlib inline"
      ]
    },
    {
      "cell_type": "markdown",
      "metadata": {
        "focus": false,
        "id": "a948d79c-5527-4c0d-ab23-f5d43ce72056"
      },
      "source": [
        "## 2) Scraping\n",
        "\n",
        "The sub-items below are:\n",
        "\n",
        "2.1) Describe scraping strategy\n",
        "\n",
        "2.2) I write four functions to extract the items above, namely, thread title, its subreddit, the time it has been up and the number of comments\n",
        "\n",
        "2.3) I then write a function that finds the last `id` on the page, and stores it.\n",
        "\n",
        "2.4) I use the functions above to parse out the 4 fields - title, time, subreddit, and number of comments.\n",
        "\n",
        "2.5) I then create a `Dataframe` from the results with those 4 columns.\n",
        "\n",
        "2.6) I save the results into  `csv` file\n",
        "\n",
        "### 2.1) General Strategy\n",
        "\n",
        "The general strategy is:\n",
        "\n",
        "- Use the `requests` Python packages to make a `.get` request (the object `res` is a `Response` object):   \n",
        "\n",
        "        res = requests.get(URL,headers={\"user-agent\":'mt'})\n",
        "     \n",
        "- Create a BeautifulSoup object from the HTML\n",
        "\n",
        "        soup = BeautifulSoup(res.content,\"lxml\")\n",
        "\n",
        "- We then use `.extract` to see the page structure:\n",
        "\n",
        "        soup.extract\n",
        "\n",
        "The page has the following structure:\n",
        "\n",
        "- The thread title is within an `<a>` tag with the attribute `data-event-action=\"title\"`.\n",
        "- The time since the thread was created is within a `<time>` tag with attribute `class=\"live-timestamp\"`.\n",
        "- The subreddit is within an `<a>` tag with the attribute `class=\"subreddit hover may-blank\"`.\n",
        "- The number of comments is within an `<a>` tag with the attribute data-event-action=\"comments\"`."
      ]
    },
    {
      "cell_type": "markdown",
      "metadata": {
        "id": "OR6hYqDkqnQ6"
      },
      "source": [
        "### 2.2) We first write four functions to extract the items above, namely, thread title, its subreddit, the time it has been up and the number of comments"
      ]
    },
    {
      "cell_type": "code",
      "execution_count": null,
      "metadata": {
        "id": "LRWGOpVJqnQ6"
      },
      "outputs": [],
      "source": [
        "def extract_title_from_result(result,num=25):\n",
        "    titles = []\n",
        "    title = result.find_all('a', {'data-event-action':'title'})\n",
        "    for i in title:\n",
        "        titles.append(i.text)\n",
        "    return titles\n",
        "\n",
        "def extract_time_from_result(result,num=25):\n",
        "    times = []\n",
        "    time = result.find_all('time', {'class':'live-timestamp'})\n",
        "    for i in time:\n",
        "        times.append(i.text)\n",
        "    return times\n",
        "\n",
        "def extract_subreddit_from_result(result,num=25):\n",
        "    subreddits = []\n",
        "    subreddit = result.find_all('a', {'class':'subreddit hover may-blank'})\n",
        "    for i in subreddit:\n",
        "        subreddits.append(i.string)\n",
        "    return subreddits\n",
        "\n",
        "def extract_num_from_result(result,num=25):\n",
        "    nums_lst = []\n",
        "    nums = result.find_all('a', {'data-event-action': 'comments'})\n",
        "    for i in nums:\n",
        "        nums_lst.append(i.string)\n",
        "    return nums_lst"
      ]
    },
    {
      "cell_type": "markdown",
      "metadata": {
        "id": "Um4cF5KIqnQ7"
      },
      "source": [
        "### 2.3) We then write a function that finds the last `id` on the page, and stores it."
      ]
    },
    {
      "cell_type": "code",
      "execution_count": null,
      "metadata": {
        "id": "l4LMnZiBqnQ7"
      },
      "outputs": [],
      "source": [
        "def get_urls(n=25):\n",
        "    j=0   # counting loops\n",
        "    titles = []\n",
        "    times = []\n",
        "    subreddits = []\n",
        "    nums = []\n",
        "    URLS = []\n",
        "    URL = \"http://www.reddit.com\"\n",
        "\n",
        "    for _ in range(n):\n",
        "\n",
        "        res = requests.get(URL, headers={\"user-agent\":'mt'})\n",
        "        soup = BeautifulSoup(res.content,\"lxml\")\n",
        "\n",
        "        titles.extend(extract_title_from_result(soup))\n",
        "        times.extend(extract_time_from_result(soup))\n",
        "        subreddits.extend(extract_subreddit_from_result(soup))\n",
        "        nums.extend(extract_num_from_result(soup))\n",
        "\n",
        "        URL = soup.find('span',{'class':'next-button'}).find('a')['href']\n",
        "        URLS.append(URL)\n",
        "        j+=1\n",
        "        print(j)\n",
        "        time.sleep(3)\n",
        "\n",
        "    return titles, times, subreddits, nums, URLS"
      ]
    },
    {
      "cell_type": "markdown",
      "metadata": {
        "id": "wmYnoKmrqnQ7"
      },
      "source": [
        "### 2.4) I now use the functions above to parse out the 4 fields - title, time, subreddit, and number of comments."
      ]
    },
    {
      "cell_type": "code",
      "execution_count": null,
      "metadata": {
        "id": "iC9Blik1qnQ7"
      },
      "outputs": [],
      "source": [
        "titles, times, subreddits, nums, URLS = get_urls(50)\n",
        "\n",
        "print(len(titles))\n",
        "print(len(times))\n",
        "print(len(subreddits))\n",
        "print(len(nums))\n",
        "print(len(URLS))"
      ]
    },
    {
      "cell_type": "markdown",
      "metadata": {
        "id": "RvVH1zxOqnQ8"
      },
      "source": [
        "### 2.5) I then create a `Dataframe` from the results with those 4 columns."
      ]
    },
    {
      "cell_type": "code",
      "execution_count": null,
      "metadata": {
        "id": "FtLe7JnGqnQ8"
      },
      "outputs": [],
      "source": [
        "df = pd.DataFrame(columns = ['titles', 'times', 'subreddits', 'nums'])\n",
        "df.titles = titles\n",
        "df.times = times\n",
        "df.subreddits = subreddits\n",
        "df.nums = nums\n",
        "df.head()"
      ]
    },
    {
      "cell_type": "markdown",
      "metadata": {
        "id": "JiYbEIt6qnQ8"
      },
      "source": [
        "### 2.6) Saving results as a `.csv` file"
      ]
    },
    {
      "cell_type": "code",
      "execution_count": null,
      "metadata": {
        "id": "3TNAmvgKqnQ8"
      },
      "outputs": [],
      "source": [
        "df.to_csv('reddit_df_1.csv')"
      ]
    },
    {
      "cell_type": "markdown",
      "metadata": {
        "focus": false,
        "id": "04563b69-f7b6-466f-9d65-fc62c9ddee6a"
      },
      "source": [
        "## 3) Data cleaning, preprocessing and exploratory data analysis (EDA)"
      ]
    },
    {
      "cell_type": "markdown",
      "metadata": {
        "focus": false,
        "id": "243e949e-2742-40af-872e-fec475fd306c"
      },
      "source": [
        "### The steps are:\n",
        "\n",
        "-Loading in the data of scraped results\n",
        "\n",
        "- Writing a function to perform some necessary EDA steps. Among other things this function drops duplicates (a substantial part of the data is duplicated)\n",
        "\n",
        "- Removing the `hours ago` strings in the column `times` and converting the result to integers. We do this by splitting `df['times']` to obtain lists where the first element of the list is the number of hours, which is what we are after. We then pick the first element and convert to an integer.\n",
        "\n",
        "- We then remove the string `comments` from the column `num` using the same code as the previous cell. We use`value_counts` first, to check for errors or entries with a peculiar shape. We find that there are four entries equal to \"comment\" merely. We drop them.\n",
        "\n",
        "- We remove `r/` from `subreddits.`\n",
        "\n",
        "- We export the new `DataFrame` into a `csv` after the EDA"
      ]
    },
    {
      "cell_type": "code",
      "execution_count": null,
      "metadata": {
        "id": "is5v17NJqnQ9",
        "outputId": "b26784b3-d2c5-49ea-8e84-cfdf348df78a"
      },
      "outputs": [
        {
          "data": {
            "text/html": [
              "<div>\n",
              "<style scoped>\n",
              "    .dataframe tbody tr th:only-of-type {\n",
              "        vertical-align: middle;\n",
              "    }\n",
              "\n",
              "    .dataframe tbody tr th {\n",
              "        vertical-align: top;\n",
              "    }\n",
              "\n",
              "    .dataframe thead th {\n",
              "        text-align: right;\n",
              "    }\n",
              "</style>\n",
              "<table border=\"1\" class=\"dataframe\">\n",
              "  <thead>\n",
              "    <tr style=\"text-align: right;\">\n",
              "      <th></th>\n",
              "      <th>titles</th>\n",
              "      <th>times</th>\n",
              "      <th>subreddits</th>\n",
              "      <th>nums</th>\n",
              "    </tr>\n",
              "  </thead>\n",
              "  <tbody>\n",
              "    <tr>\n",
              "      <th>0</th>\n",
              "      <td>I've lost a lot of weight, a lot of sadness, a...</td>\n",
              "      <td>1 hour ago</td>\n",
              "      <td>r/pics</td>\n",
              "      <td>1449 comments</td>\n",
              "    </tr>\n",
              "    <tr>\n",
              "      <th>1</th>\n",
              "      <td>Dick Winters and his Easy Company (HBO's Band ...</td>\n",
              "      <td>3 hours ago</td>\n",
              "      <td>r/ColorizedHistory</td>\n",
              "      <td>174 comments</td>\n",
              "    </tr>\n",
              "    <tr>\n",
              "      <th>2</th>\n",
              "      <td>JJ slowly looking more like George Lucas</td>\n",
              "      <td>5 hours ago</td>\n",
              "      <td>r/StarWars</td>\n",
              "      <td>246 comments</td>\n",
              "    </tr>\n",
              "    <tr>\n",
              "      <th>3</th>\n",
              "      <td>Pink Floyd’s album “The Dark Side of The Moon”...</td>\n",
              "      <td>6 hours ago</td>\n",
              "      <td>r/Music</td>\n",
              "      <td>638 comments</td>\n",
              "    </tr>\n",
              "    <tr>\n",
              "      <th>4</th>\n",
              "      <td>She's officially the little girl's best babysi...</td>\n",
              "      <td>3 hours ago</td>\n",
              "      <td>r/HumansBeingBros</td>\n",
              "      <td>91 comments</td>\n",
              "    </tr>\n",
              "    <tr>\n",
              "      <th>5</th>\n",
              "      <td>Obviously not a virus</td>\n",
              "      <td>6 hours ago</td>\n",
              "      <td>r/gaming</td>\n",
              "      <td>199 comments</td>\n",
              "    </tr>\n",
              "    <tr>\n",
              "      <th>6</th>\n",
              "      <td>CaT BrUtAllY StRaNgLEs DoGGo</td>\n",
              "      <td>6 hours ago</td>\n",
              "      <td>r/PeopleFuckingDying</td>\n",
              "      <td>105 comments</td>\n",
              "    </tr>\n",
              "    <tr>\n",
              "      <th>7</th>\n",
              "      <td>[IMAGE] These stairs count the calories that y...</td>\n",
              "      <td>7 hours ago</td>\n",
              "      <td>r/GetMotivated</td>\n",
              "      <td>600 comments</td>\n",
              "    </tr>\n",
              "    <tr>\n",
              "      <th>8</th>\n",
              "      <td>Obese lady knows more about cancer than Cancer...</td>\n",
              "      <td>2 hours ago</td>\n",
              "      <td>r/insanepeoplefacebook</td>\n",
              "      <td>202 comments</td>\n",
              "    </tr>\n",
              "    <tr>\n",
              "      <th>9</th>\n",
              "      <td>This fucking ad</td>\n",
              "      <td>7 hours ago</td>\n",
              "      <td>r/assholedesign</td>\n",
              "      <td>245 comments</td>\n",
              "    </tr>\n",
              "    <tr>\n",
              "      <th>10</th>\n",
              "      <td>[WP] You're a powerful dragon that lived next ...</td>\n",
              "      <td>6 hours ago</td>\n",
              "      <td>r/WritingPrompts</td>\n",
              "      <td>129 comments</td>\n",
              "    </tr>\n",
              "    <tr>\n",
              "      <th>11</th>\n",
              "      <td>Technically murdered by Numbers, but too good ...</td>\n",
              "      <td>6 hours ago</td>\n",
              "      <td>r/MurderedByWords</td>\n",
              "      <td>32 comments</td>\n",
              "    </tr>\n",
              "    <tr>\n",
              "      <th>12</th>\n",
              "      <td>If you wore a VR headset linked to a camera dr...</td>\n",
              "      <td>6 hours ago</td>\n",
              "      <td>r/Showerthoughts</td>\n",
              "      <td>220 comments</td>\n",
              "    </tr>\n",
              "    <tr>\n",
              "      <th>13</th>\n",
              "      <td>Dozens of mayors sign letter supporting resolu...</td>\n",
              "      <td>9 hours ago</td>\n",
              "      <td>r/technology</td>\n",
              "      <td>441 comments</td>\n",
              "    </tr>\n",
              "    <tr>\n",
              "      <th>14</th>\n",
              "      <td>TIL the FBI mounted a 4-year-long undercover s...</td>\n",
              "      <td>12 hours ago</td>\n",
              "      <td>r/todayilearned</td>\n",
              "      <td>4402 comments</td>\n",
              "    </tr>\n",
              "    <tr>\n",
              "      <th>15</th>\n",
              "      <td>“Excuse me sir, but I do believe you’ve droppe...</td>\n",
              "      <td>9 hours ago</td>\n",
              "      <td>r/BikiniBottomTwitter</td>\n",
              "      <td>87 comments</td>\n",
              "    </tr>\n",
              "    <tr>\n",
              "      <th>16</th>\n",
              "      <td>Dad was a little too slow this time</td>\n",
              "      <td>7 hours ago</td>\n",
              "      <td>r/DadReflexes</td>\n",
              "      <td>201 comments</td>\n",
              "    </tr>\n",
              "    <tr>\n",
              "      <th>17</th>\n",
              "      <td>Yellow things.. hmm..</td>\n",
              "      <td>9 hours ago</td>\n",
              "      <td>r/oldpeoplefacebook</td>\n",
              "      <td>192 comments</td>\n",
              "    </tr>\n",
              "    <tr>\n",
              "      <th>18</th>\n",
              "      <td>Poverty comes at a high price</td>\n",
              "      <td>5 hours ago</td>\n",
              "      <td>r/LateStageCapitalism</td>\n",
              "      <td>18 comments</td>\n",
              "    </tr>\n",
              "    <tr>\n",
              "      <th>19</th>\n",
              "      <td>Digit doesn't like Spaghetti</td>\n",
              "      <td>8 hours ago</td>\n",
              "      <td>r/catpranks</td>\n",
              "      <td>94 comments</td>\n",
              "    </tr>\n",
              "    <tr>\n",
              "      <th>20</th>\n",
              "      <td>Therapy dogs waiting to welcome the Parkland k...</td>\n",
              "      <td>11 hours ago</td>\n",
              "      <td>r/aww</td>\n",
              "      <td>1791 comments</td>\n",
              "    </tr>\n",
              "    <tr>\n",
              "      <th>21</th>\n",
              "      <td>Octopus running is 🔥</td>\n",
              "      <td>5 hours ago</td>\n",
              "      <td>r/NatureIsFuckingLit</td>\n",
              "      <td>59 comments</td>\n",
              "    </tr>\n",
              "    <tr>\n",
              "      <th>22</th>\n",
              "      <td>My god</td>\n",
              "      <td>9 hours ago</td>\n",
              "      <td>r/ATBGE</td>\n",
              "      <td>248 comments</td>\n",
              "    </tr>\n",
              "    <tr>\n",
              "      <th>23</th>\n",
              "      <td>Oops! My cat accidentally jumped and landed it...</td>\n",
              "      <td>5 hours ago</td>\n",
              "      <td>r/OopsDidntMeanTo</td>\n",
              "      <td>130 comments</td>\n",
              "    </tr>\n",
              "    <tr>\n",
              "      <th>24</th>\n",
              "      <td>Man..Talk about the greatest character develop...</td>\n",
              "      <td>6 hours ago</td>\n",
              "      <td>r/TheLastAirbender</td>\n",
              "      <td>79 comments</td>\n",
              "    </tr>\n",
              "    <tr>\n",
              "      <th>25</th>\n",
              "      <td>North East India must be on every nature lover...</td>\n",
              "      <td>6 hours ago</td>\n",
              "      <td>r/travel</td>\n",
              "      <td>60 comments</td>\n",
              "    </tr>\n",
              "    <tr>\n",
              "      <th>26</th>\n",
              "      <td>Canada Makes National Parks Permanently Free F...</td>\n",
              "      <td>12 hours ago</td>\n",
              "      <td>r/worldnews</td>\n",
              "      <td>1102 comments</td>\n",
              "    </tr>\n",
              "    <tr>\n",
              "      <th>27</th>\n",
              "      <td>Olive Garden employees who have had to cut som...</td>\n",
              "      <td>11 hours ago</td>\n",
              "      <td>r/AskReddit</td>\n",
              "      <td>2080 comments</td>\n",
              "    </tr>\n",
              "    <tr>\n",
              "      <th>28</th>\n",
              "      <td>Snek is now borns</td>\n",
              "      <td>7 hours ago</td>\n",
              "      <td>r/Sneks</td>\n",
              "      <td>33 comments</td>\n",
              "    </tr>\n",
              "    <tr>\n",
              "      <th>29</th>\n",
              "      <td>On the fence.</td>\n",
              "      <td>7 hours ago</td>\n",
              "      <td>r/ChildrenFallingOver</td>\n",
              "      <td>96 comments</td>\n",
              "    </tr>\n",
              "    <tr>\n",
              "      <th>30</th>\n",
              "      <td>r/The_Donald is imploding, following Trump's p...</td>\n",
              "      <td>12 hours ago</td>\n",
              "      <td>r/SubredditDrama</td>\n",
              "      <td>4781 comments</td>\n",
              "    </tr>\n",
              "    <tr>\n",
              "      <th>31</th>\n",
              "      <td>I’ve worked my ass off to lose more than a foo...</td>\n",
              "      <td>10 hours ago</td>\n",
              "      <td>r/pics</td>\n",
              "      <td>1956 comments</td>\n",
              "    </tr>\n",
              "    <tr>\n",
              "      <th>32</th>\n",
              "      <td>Who's a Good Boy?</td>\n",
              "      <td>10 hours ago</td>\n",
              "      <td>r/comics</td>\n",
              "      <td>196 comments</td>\n",
              "    </tr>\n",
              "    <tr>\n",
              "      <th>33</th>\n",
              "      <td>\"Don't touch my fries!\" repost r/gifs</td>\n",
              "      <td>3 hours ago</td>\n",
              "      <td>r/BetterEveryLoop</td>\n",
              "      <td>23 comments</td>\n",
              "    </tr>\n",
              "    <tr>\n",
              "      <th>34</th>\n",
              "      <td>Her stuffed toy is all she needs to have the c...</td>\n",
              "      <td>11 hours ago</td>\n",
              "      <td>r/MadeMeSmile</td>\n",
              "      <td>218 comments</td>\n",
              "    </tr>\n",
              "    <tr>\n",
              "      <th>35</th>\n",
              "      <td>THERE IS NO CAROL!</td>\n",
              "      <td>12 hours ago</td>\n",
              "      <td>r/IASIP</td>\n",
              "      <td>113 comments</td>\n",
              "    </tr>\n",
              "    <tr>\n",
              "      <th>36</th>\n",
              "      <td>User explains how China's economy is set up fo...</td>\n",
              "      <td>11 hours ago</td>\n",
              "      <td>r/bestof</td>\n",
              "      <td>903 comments</td>\n",
              "    </tr>\n",
              "    <tr>\n",
              "      <th>37</th>\n",
              "      <td>I had tears in my eyes when my waitress handed...</td>\n",
              "      <td>13 hours ago</td>\n",
              "      <td>r/pics</td>\n",
              "      <td>1252 comments</td>\n",
              "    </tr>\n",
              "    <tr>\n",
              "      <th>38</th>\n",
              "      <td>Hello Mr. Krabs</td>\n",
              "      <td>12 hours ago</td>\n",
              "      <td>r/evilbuildings</td>\n",
              "      <td>197 comments</td>\n",
              "    </tr>\n",
              "    <tr>\n",
              "      <th>39</th>\n",
              "      <td>China bans Animal Farm by George Orwell</td>\n",
              "      <td>13 hours ago</td>\n",
              "      <td>r/books</td>\n",
              "      <td>1498 comments</td>\n",
              "    </tr>\n",
              "  </tbody>\n",
              "</table>\n",
              "</div>"
            ],
            "text/plain": [
              "                                               titles         times  \\\n",
              "0   I've lost a lot of weight, a lot of sadness, a...    1 hour ago   \n",
              "1   Dick Winters and his Easy Company (HBO's Band ...   3 hours ago   \n",
              "2            JJ slowly looking more like George Lucas   5 hours ago   \n",
              "3   Pink Floyd’s album “The Dark Side of The Moon”...   6 hours ago   \n",
              "4   She's officially the little girl's best babysi...   3 hours ago   \n",
              "5                               Obviously not a virus   6 hours ago   \n",
              "6                        CaT BrUtAllY StRaNgLEs DoGGo   6 hours ago   \n",
              "7   [IMAGE] These stairs count the calories that y...   7 hours ago   \n",
              "8   Obese lady knows more about cancer than Cancer...   2 hours ago   \n",
              "9                                     This fucking ad   7 hours ago   \n",
              "10  [WP] You're a powerful dragon that lived next ...   6 hours ago   \n",
              "11  Technically murdered by Numbers, but too good ...   6 hours ago   \n",
              "12  If you wore a VR headset linked to a camera dr...   6 hours ago   \n",
              "13  Dozens of mayors sign letter supporting resolu...   9 hours ago   \n",
              "14  TIL the FBI mounted a 4-year-long undercover s...  12 hours ago   \n",
              "15  “Excuse me sir, but I do believe you’ve droppe...   9 hours ago   \n",
              "16                Dad was a little too slow this time   7 hours ago   \n",
              "17                              Yellow things.. hmm..   9 hours ago   \n",
              "18                      Poverty comes at a high price   5 hours ago   \n",
              "19                       Digit doesn't like Spaghetti   8 hours ago   \n",
              "20  Therapy dogs waiting to welcome the Parkland k...  11 hours ago   \n",
              "21                               Octopus running is 🔥   5 hours ago   \n",
              "22                                             My god   9 hours ago   \n",
              "23  Oops! My cat accidentally jumped and landed it...   5 hours ago   \n",
              "24  Man..Talk about the greatest character develop...   6 hours ago   \n",
              "25  North East India must be on every nature lover...   6 hours ago   \n",
              "26  Canada Makes National Parks Permanently Free F...  12 hours ago   \n",
              "27  Olive Garden employees who have had to cut som...  11 hours ago   \n",
              "28                                  Snek is now borns   7 hours ago   \n",
              "29                                      On the fence.   7 hours ago   \n",
              "30  r/The_Donald is imploding, following Trump's p...  12 hours ago   \n",
              "31  I’ve worked my ass off to lose more than a foo...  10 hours ago   \n",
              "32                                  Who's a Good Boy?  10 hours ago   \n",
              "33              \"Don't touch my fries!\" repost r/gifs   3 hours ago   \n",
              "34  Her stuffed toy is all she needs to have the c...  11 hours ago   \n",
              "35                                 THERE IS NO CAROL!  12 hours ago   \n",
              "36  User explains how China's economy is set up fo...  11 hours ago   \n",
              "37  I had tears in my eyes when my waitress handed...  13 hours ago   \n",
              "38                                    Hello Mr. Krabs  12 hours ago   \n",
              "39            China bans Animal Farm by George Orwell  13 hours ago   \n",
              "\n",
              "                subreddits           nums  \n",
              "0                   r/pics  1449 comments  \n",
              "1       r/ColorizedHistory   174 comments  \n",
              "2               r/StarWars   246 comments  \n",
              "3                  r/Music   638 comments  \n",
              "4        r/HumansBeingBros    91 comments  \n",
              "5                 r/gaming   199 comments  \n",
              "6     r/PeopleFuckingDying   105 comments  \n",
              "7           r/GetMotivated   600 comments  \n",
              "8   r/insanepeoplefacebook   202 comments  \n",
              "9          r/assholedesign   245 comments  \n",
              "10        r/WritingPrompts   129 comments  \n",
              "11       r/MurderedByWords    32 comments  \n",
              "12        r/Showerthoughts   220 comments  \n",
              "13            r/technology   441 comments  \n",
              "14         r/todayilearned  4402 comments  \n",
              "15   r/BikiniBottomTwitter    87 comments  \n",
              "16           r/DadReflexes   201 comments  \n",
              "17     r/oldpeoplefacebook   192 comments  \n",
              "18   r/LateStageCapitalism    18 comments  \n",
              "19             r/catpranks    94 comments  \n",
              "20                   r/aww  1791 comments  \n",
              "21    r/NatureIsFuckingLit    59 comments  \n",
              "22                 r/ATBGE   248 comments  \n",
              "23       r/OopsDidntMeanTo   130 comments  \n",
              "24      r/TheLastAirbender    79 comments  \n",
              "25                r/travel    60 comments  \n",
              "26             r/worldnews  1102 comments  \n",
              "27             r/AskReddit  2080 comments  \n",
              "28                 r/Sneks    33 comments  \n",
              "29   r/ChildrenFallingOver    96 comments  \n",
              "30        r/SubredditDrama  4781 comments  \n",
              "31                  r/pics  1956 comments  \n",
              "32                r/comics   196 comments  \n",
              "33       r/BetterEveryLoop    23 comments  \n",
              "34           r/MadeMeSmile   218 comments  \n",
              "35                 r/IASIP   113 comments  \n",
              "36                r/bestof   903 comments  \n",
              "37                  r/pics  1252 comments  \n",
              "38         r/evilbuildings   197 comments  \n",
              "39                 r/books  1498 comments  "
            ]
          },
          "execution_count": 4,
          "metadata": {},
          "output_type": "execute_result"
        }
      ],
      "source": [
        "df = pd.read_csv('reddit_df_1.csv',index_col=0)\n",
        "df.head(40)"
      ]
    },
    {
      "cell_type": "code",
      "execution_count": null,
      "metadata": {
        "focus": false,
        "id": "588f9845-6143-4bcc-bfd1-85d45b79303d",
        "outputId": "07d7e97a-8c1c-4c14-e376-fece888f3751"
      },
      "outputs": [
        {
          "name": "stdout",
          "output_type": "stream",
          "text": [
            "How many missing values there are:\n",
            "\n",
            "titles        0\n",
            "times         0\n",
            "subreddits    0\n",
            "nums          0\n",
            "dtype: int64\n",
            "\n",
            "Which are the data types:\n",
            "\n",
            "titles        object\n",
            "times         object\n",
            "subreddits    object\n",
            "nums          object\n",
            "dtype: object\n",
            "\n",
            "Shape with duplicates: (1250, 4)\n",
            "How many duplicates of ['titles', 'subreddits']: 734\n",
            "Now how many duplicates of ['titles', 'subreddits']: 0\n",
            "Shape without duplicates: (516, 4)\n",
            "titles : 514\n",
            "times : 26\n",
            "subreddits : 299\n",
            "nums : 293\n"
          ]
        }
      ],
      "source": [
        "def eda(df,cols):\n",
        "    print(\"How many missing values there are:\")\n",
        "    print(\"\")\n",
        "    print(df.isnull().sum())\n",
        "    print(\"\")\n",
        "    print(\"Which are the data types:\")\n",
        "    print(\"\")\n",
        "    print(df.dtypes)\n",
        "    print(\"\")\n",
        "    print(\"Shape with duplicates:\",df.shape)\n",
        "    print (\"How many duplicates of {}:\".format(cols),df[cols].duplicated().sum())\n",
        "    df.drop_duplicates(subset=cols, keep='last', inplace=True) # drop duplicates\n",
        "    print (\"Now how many duplicates of {}:\".format(cols),df[cols].duplicated().sum())\n",
        "    print (\"Shape without duplicates:\",df.shape)\n",
        "    for col in df:\n",
        "        print (col,\":\",df[col].nunique())  #checking for unique entries\n",
        "\n",
        "eda(df,['titles','subreddits'])"
      ]
    },
    {
      "cell_type": "code",
      "execution_count": null,
      "metadata": {
        "id": "mht30MAMqnQ-",
        "outputId": "0a9ec8b8-0dd4-4ae4-dab8-c7acde6fa49d"
      },
      "outputs": [
        {
          "name": "stdout",
          "output_type": "stream",
          "text": [
            "How many 'comment' entries there are: comment    4\n",
            "Name: nums, dtype: int64\n"
          ]
        }
      ],
      "source": [
        "df['times'] = [int(x[0]) for x in df['times'].str.split(' ')]   # Dropping 'hours ago' string\n",
        "print(\"How many 'comment' entries there are:\", df[df['nums'] == 'comment']['nums'].value_counts())\n",
        "df = df[df['nums'] != 'comment']                                # Dropping entries equal to 'comment' from nums column\n",
        "df['nums'] = [int(x[0]) for x in df['nums'].str.split(' ')]     # Dropping 'comments' from nums column\n",
        "df['subreddits'] = df['subreddits'].str[2:]                     # Dropping the 'r/' from subreddits"
      ]
    },
    {
      "cell_type": "code",
      "execution_count": null,
      "metadata": {
        "id": "fxiE2qYpqnQ-",
        "outputId": "f118db5b-45b4-4a2a-ffba-420508cd7cc9"
      },
      "outputs": [
        {
          "data": {
            "text/html": [
              "<div>\n",
              "<style scoped>\n",
              "    .dataframe tbody tr th:only-of-type {\n",
              "        vertical-align: middle;\n",
              "    }\n",
              "\n",
              "    .dataframe tbody tr th {\n",
              "        vertical-align: top;\n",
              "    }\n",
              "\n",
              "    .dataframe thead th {\n",
              "        text-align: right;\n",
              "    }\n",
              "</style>\n",
              "<table border=\"1\" class=\"dataframe\">\n",
              "  <thead>\n",
              "    <tr style=\"text-align: right;\">\n",
              "      <th></th>\n",
              "      <th>titles</th>\n",
              "      <th>times</th>\n",
              "      <th>subreddits</th>\n",
              "      <th>nums</th>\n",
              "    </tr>\n",
              "  </thead>\n",
              "  <tbody>\n",
              "    <tr>\n",
              "      <th>178</th>\n",
              "      <td>rainy afternoon</td>\n",
              "      <td>11</td>\n",
              "      <td>raining</td>\n",
              "      <td>10</td>\n",
              "    </tr>\n",
              "    <tr>\n",
              "      <th>180</th>\n",
              "      <td>Well this tweet took a wild turn</td>\n",
              "      <td>19</td>\n",
              "      <td>trashy</td>\n",
              "      <td>1242</td>\n",
              "    </tr>\n",
              "    <tr>\n",
              "      <th>181</th>\n",
              "      <td>Sweet ki..........nvm!</td>\n",
              "      <td>3</td>\n",
              "      <td>yesyesyesyesno</td>\n",
              "      <td>5</td>\n",
              "    </tr>\n",
              "    <tr>\n",
              "      <th>187</th>\n",
              "      <td>Two drunk gentlemen try to pass each other</td>\n",
              "      <td>17</td>\n",
              "      <td>StoppedWorking</td>\n",
              "      <td>102</td>\n",
              "    </tr>\n",
              "    <tr>\n",
              "      <th>192</th>\n",
              "      <td>Minute of silence</td>\n",
              "      <td>4</td>\n",
              "      <td>gwent</td>\n",
              "      <td>45</td>\n",
              "    </tr>\n",
              "    <tr>\n",
              "      <th>196</th>\n",
              "      <td>Dandrews practices his arithmetic</td>\n",
              "      <td>7</td>\n",
              "      <td>melbourne</td>\n",
              "      <td>63</td>\n",
              "    </tr>\n",
              "    <tr>\n",
              "      <th>272</th>\n",
              "      <td>Downtown Vancouver [OC][4898 x 3265]</td>\n",
              "      <td>6</td>\n",
              "      <td>CityPorn</td>\n",
              "      <td>5</td>\n",
              "    </tr>\n",
              "    <tr>\n",
              "      <th>292</th>\n",
              "      <td>My mom took this photo in Yosemite at the vall...</td>\n",
              "      <td>17</td>\n",
              "      <td>EarthPorn</td>\n",
              "      <td>34</td>\n",
              "    </tr>\n",
              "    <tr>\n",
              "      <th>294</th>\n",
              "      <td>So this happened today</td>\n",
              "      <td>16</td>\n",
              "      <td>FortNiteBR</td>\n",
              "      <td>89</td>\n",
              "    </tr>\n",
              "    <tr>\n",
              "      <th>295</th>\n",
              "      <td>Maximum Height Impulse Test</td>\n",
              "      <td>12</td>\n",
              "      <td>FortNiteBR</td>\n",
              "      <td>70</td>\n",
              "    </tr>\n",
              "    <tr>\n",
              "      <th>296</th>\n",
              "      <td>Stave church that combines peaked Christian ar...</td>\n",
              "      <td>19</td>\n",
              "      <td>evilbuildings</td>\n",
              "      <td>165</td>\n",
              "    </tr>\n",
              "    <tr>\n",
              "      <th>297</th>\n",
              "      <td>Here are a few of the many Forbidden no dancin...</td>\n",
              "      <td>1</td>\n",
              "      <td>FortNiteBR</td>\n",
              "      <td>33</td>\n",
              "    </tr>\n",
              "    <tr>\n",
              "      <th>298</th>\n",
              "      <td>The new British 10p, will celebrate British li...</td>\n",
              "      <td>6</td>\n",
              "      <td>CasualUK</td>\n",
              "      <td>201</td>\n",
              "    </tr>\n",
              "    <tr>\n",
              "      <th>299</th>\n",
              "      <td>T_D is imploding with Trumpgret over Trump’s s...</td>\n",
              "      <td>10</td>\n",
              "      <td>Trumpgret</td>\n",
              "      <td>149</td>\n",
              "    </tr>\n",
              "    <tr>\n",
              "      <th>300</th>\n",
              "      <td>White Beard vs...</td>\n",
              "      <td>13</td>\n",
              "      <td>OnePiece</td>\n",
              "      <td>138</td>\n",
              "    </tr>\n",
              "    <tr>\n",
              "      <th>301</th>\n",
              "      <td>baby kangaroo</td>\n",
              "      <td>18</td>\n",
              "      <td>aww</td>\n",
              "      <td>49</td>\n",
              "    </tr>\n",
              "    <tr>\n",
              "      <th>302</th>\n",
              "      <td>Pre-testosterone vs 4 years on it. I’m the hap...</td>\n",
              "      <td>11</td>\n",
              "      <td>lgbt</td>\n",
              "      <td>133</td>\n",
              "    </tr>\n",
              "    <tr>\n",
              "      <th>303</th>\n",
              "      <td>Centralia, PA (underground coal mine fire sinc...</td>\n",
              "      <td>10</td>\n",
              "      <td>AbandonedPorn</td>\n",
              "      <td>46</td>\n",
              "    </tr>\n",
              "    <tr>\n",
              "      <th>304</th>\n",
              "      <td>Talented sister</td>\n",
              "      <td>20</td>\n",
              "      <td>wholesomememes</td>\n",
              "      <td>225</td>\n",
              "    </tr>\n",
              "    <tr>\n",
              "      <th>305</th>\n",
              "      <td>A Minecraft Voxelart piece I recently finished...</td>\n",
              "      <td>20</td>\n",
              "      <td>gaming</td>\n",
              "      <td>1109</td>\n",
              "    </tr>\n",
              "  </tbody>\n",
              "</table>\n",
              "</div>"
            ],
            "text/plain": [
              "                                                titles  times      subreddits  \\\n",
              "178                                    rainy afternoon     11         raining   \n",
              "180                   Well this tweet took a wild turn     19          trashy   \n",
              "181                             Sweet ki..........nvm!      3  yesyesyesyesno   \n",
              "187         Two drunk gentlemen try to pass each other     17  StoppedWorking   \n",
              "192                                  Minute of silence      4           gwent   \n",
              "196                  Dandrews practices his arithmetic      7       melbourne   \n",
              "272               Downtown Vancouver [OC][4898 x 3265]      6        CityPorn   \n",
              "292  My mom took this photo in Yosemite at the vall...     17       EarthPorn   \n",
              "294                             So this happened today     16      FortNiteBR   \n",
              "295                        Maximum Height Impulse Test     12      FortNiteBR   \n",
              "296  Stave church that combines peaked Christian ar...     19   evilbuildings   \n",
              "297  Here are a few of the many Forbidden no dancin...      1      FortNiteBR   \n",
              "298  The new British 10p, will celebrate British li...      6        CasualUK   \n",
              "299  T_D is imploding with Trumpgret over Trump’s s...     10       Trumpgret   \n",
              "300                                  White Beard vs...     13        OnePiece   \n",
              "301                                      baby kangaroo     18             aww   \n",
              "302  Pre-testosterone vs 4 years on it. I’m the hap...     11            lgbt   \n",
              "303  Centralia, PA (underground coal mine fire sinc...     10   AbandonedPorn   \n",
              "304                                    Talented sister     20  wholesomememes   \n",
              "305  A Minecraft Voxelart piece I recently finished...     20          gaming   \n",
              "\n",
              "     nums  \n",
              "178    10  \n",
              "180  1242  \n",
              "181     5  \n",
              "187   102  \n",
              "192    45  \n",
              "196    63  \n",
              "272     5  \n",
              "292    34  \n",
              "294    89  \n",
              "295    70  \n",
              "296   165  \n",
              "297    33  \n",
              "298   201  \n",
              "299   149  \n",
              "300   138  \n",
              "301    49  \n",
              "302   133  \n",
              "303    46  \n",
              "304   225  \n",
              "305  1109  "
            ]
          },
          "execution_count": 7,
          "metadata": {},
          "output_type": "execute_result"
        }
      ],
      "source": [
        "df.head(20)"
      ]
    },
    {
      "cell_type": "code",
      "execution_count": null,
      "metadata": {
        "id": "qCxEXAUkqnQ_"
      },
      "outputs": [],
      "source": [
        "df.to_csv('reddit_df_eda_1.csv')   # exporting the DataFrame after the EDA"
      ]
    },
    {
      "cell_type": "markdown",
      "metadata": {
        "focus": false,
        "id": "c7631f51-07f2-4c79-a093-3e9bc7849a48"
      },
      "source": [
        "## 4) Creating a new binary variable\n",
        "\n",
        "We want to predict a binary variable - whether the number of comments was low or high. For that we:\n",
        "- Compute the median number of comments and create a new binary variable that is true when the number of comments is high (above the median).\n",
        "- We convert this into a _binary_ classification problem, by predicting two classes, high vs low number of comments."
      ]
    },
    {
      "cell_type": "code",
      "execution_count": null,
      "metadata": {
        "scrolled": true,
        "id": "9LkYmwY8qnQ_",
        "outputId": "e9a0e7d9-b133-44e1-be32-219534eb0731"
      },
      "outputs": [
        {
          "name": "stdout",
          "output_type": "stream",
          "text": [
            "The median is: 84.5\n"
          ]
        },
        {
          "data": {
            "text/plain": [
              "(512, 5)"
            ]
          },
          "execution_count": 8,
          "metadata": {},
          "output_type": "execute_result"
        },
        {
          "data": {
            "text/html": [
              "<div>\n",
              "<style scoped>\n",
              "    .dataframe tbody tr th:only-of-type {\n",
              "        vertical-align: middle;\n",
              "    }\n",
              "\n",
              "    .dataframe tbody tr th {\n",
              "        vertical-align: top;\n",
              "    }\n",
              "\n",
              "    .dataframe thead th {\n",
              "        text-align: right;\n",
              "    }\n",
              "</style>\n",
              "<table border=\"1\" class=\"dataframe\">\n",
              "  <thead>\n",
              "    <tr style=\"text-align: right;\">\n",
              "      <th></th>\n",
              "      <th>titles</th>\n",
              "      <th>times</th>\n",
              "      <th>subreddits</th>\n",
              "      <th>nums</th>\n",
              "      <th>binary</th>\n",
              "    </tr>\n",
              "  </thead>\n",
              "  <tbody>\n",
              "    <tr>\n",
              "      <th>178</th>\n",
              "      <td>rainy afternoon</td>\n",
              "      <td>11</td>\n",
              "      <td>raining</td>\n",
              "      <td>10</td>\n",
              "      <td>0</td>\n",
              "    </tr>\n",
              "    <tr>\n",
              "      <th>180</th>\n",
              "      <td>Well this tweet took a wild turn</td>\n",
              "      <td>19</td>\n",
              "      <td>trashy</td>\n",
              "      <td>1242</td>\n",
              "      <td>1</td>\n",
              "    </tr>\n",
              "    <tr>\n",
              "      <th>181</th>\n",
              "      <td>Sweet ki..........nvm!</td>\n",
              "      <td>3</td>\n",
              "      <td>yesyesyesyesno</td>\n",
              "      <td>5</td>\n",
              "      <td>0</td>\n",
              "    </tr>\n",
              "    <tr>\n",
              "      <th>187</th>\n",
              "      <td>Two drunk gentlemen try to pass each other</td>\n",
              "      <td>17</td>\n",
              "      <td>StoppedWorking</td>\n",
              "      <td>102</td>\n",
              "      <td>1</td>\n",
              "    </tr>\n",
              "    <tr>\n",
              "      <th>192</th>\n",
              "      <td>Minute of silence</td>\n",
              "      <td>4</td>\n",
              "      <td>gwent</td>\n",
              "      <td>45</td>\n",
              "      <td>0</td>\n",
              "    </tr>\n",
              "  </tbody>\n",
              "</table>\n",
              "</div>"
            ],
            "text/plain": [
              "                                         titles  times      subreddits  nums  \\\n",
              "178                             rainy afternoon     11         raining    10   \n",
              "180            Well this tweet took a wild turn     19          trashy  1242   \n",
              "181                      Sweet ki..........nvm!      3  yesyesyesyesno     5   \n",
              "187  Two drunk gentlemen try to pass each other     17  StoppedWorking   102   \n",
              "192                           Minute of silence      4           gwent    45   \n",
              "\n",
              "     binary  \n",
              "178       0  \n",
              "180       1  \n",
              "181       0  \n",
              "187       1  \n",
              "192       0  "
            ]
          },
          "execution_count": 8,
          "metadata": {},
          "output_type": "execute_result"
        }
      ],
      "source": [
        "df = pd.read_csv('reddit_df_eda_1.csv',index_col=0)\n",
        "print(\"The median is:\",np.median(df['nums']))\n",
        "df['binary'] = df['nums'].apply(lambda x: 1 if x >= np.median(df['nums']) else 0)\n",
        "df.shape\n",
        "df.head()"
      ]
    },
    {
      "cell_type": "code",
      "execution_count": null,
      "metadata": {
        "id": "W8NJRszbqnQ_"
      },
      "outputs": [],
      "source": [
        "df.to_csv('df_with_binary_1.csv')"
      ]
    },
    {
      "cell_type": "markdown",
      "metadata": {
        "id": "hJc5UVKOqnQ_"
      },
      "source": [
        "### Calculating the baseline accuracy for this model?\n",
        "\n",
        "\n",
        "The baseline accuracy is the accuracy we would get if we always predict that the number of comments is larger than the median:\n",
        "\n",
        "$$ \\text{baseline} = \\frac{n_{\\text{above median}}}{n_{\\text{total}}}$$\n",
        "\n",
        "Since we are using the median as a criterion for classification, the baseline should be 0.5:"
      ]
    },
    {
      "cell_type": "code",
      "execution_count": null,
      "metadata": {
        "id": "s7bfLUSJqnRA",
        "outputId": "a99fd627-438c-473e-8024-2d3b4b6e0ed4"
      },
      "outputs": [
        {
          "name": "stdout",
          "output_type": "stream",
          "text": [
            "The baseline accuracy is 0.5\n"
          ]
        }
      ],
      "source": [
        "df = pd.read_csv('df_with_binary_1.csv')\n",
        "baseline = np.mean(df['binary'])\n",
        "print(\"The baseline accuracy is\",baseline)"
      ]
    },
    {
      "cell_type": "markdown",
      "metadata": {
        "focus": false,
        "id": "4fb29de2-5b98-474c-a4ad-5170b72b9aea"
      },
      "source": [
        "## 5) Model building I\n",
        "\n",
        "We now create a `RandomForestClassifier` model to classify into high or low the number of comments. As a warm-up, we start by only using the `subreddits` as a feature. We first need to create dummy variables for the subreddits, which are in text format, to build our predictors (and drop one of the dummy columns):"
      ]
    },
    {
      "cell_type": "code",
      "execution_count": null,
      "metadata": {
        "id": "PuKsK416qnRB",
        "outputId": "24fa8830-6137-458f-d1bd-44a204fdda85"
      },
      "outputs": [
        {
          "data": {
            "text/plain": [
              "(512, 297)"
            ]
          },
          "execution_count": 9,
          "metadata": {},
          "output_type": "execute_result"
        },
        {
          "data": {
            "text/html": [
              "<div>\n",
              "<style scoped>\n",
              "    .dataframe tbody tr th:only-of-type {\n",
              "        vertical-align: middle;\n",
              "    }\n",
              "\n",
              "    .dataframe tbody tr th {\n",
              "        vertical-align: top;\n",
              "    }\n",
              "\n",
              "    .dataframe thead th {\n",
              "        text-align: right;\n",
              "    }\n",
              "</style>\n",
              "<table border=\"1\" class=\"dataframe\">\n",
              "  <thead>\n",
              "    <tr style=\"text-align: right;\">\n",
              "      <th></th>\n",
              "      <th>binary</th>\n",
              "      <th>4PanelCringe</th>\n",
              "      <th>ACPocketCamp</th>\n",
              "      <th>AFL</th>\n",
              "      <th>ATBGE</th>\n",
              "      <th>AbandonedPorn</th>\n",
              "      <th>AccidentalWesAnderson</th>\n",
              "      <th>Android</th>\n",
              "      <th>AnimalsBeingBros</th>\n",
              "      <th>AnimalsBeingDerps</th>\n",
              "      <th>...</th>\n",
              "      <th>videos</th>\n",
              "      <th>wallstreetbets</th>\n",
              "      <th>warriors</th>\n",
              "      <th>westworld</th>\n",
              "      <th>wholesomememes</th>\n",
              "      <th>woof_irl</th>\n",
              "      <th>worldnews</th>\n",
              "      <th>yesyesyesyesno</th>\n",
              "      <th>youtubehaiku</th>\n",
              "      <th>zelda</th>\n",
              "    </tr>\n",
              "  </thead>\n",
              "  <tbody>\n",
              "    <tr>\n",
              "      <th>178</th>\n",
              "      <td>0</td>\n",
              "      <td>0</td>\n",
              "      <td>0</td>\n",
              "      <td>0</td>\n",
              "      <td>0</td>\n",
              "      <td>0</td>\n",
              "      <td>0</td>\n",
              "      <td>0</td>\n",
              "      <td>0</td>\n",
              "      <td>0</td>\n",
              "      <td>...</td>\n",
              "      <td>0</td>\n",
              "      <td>0</td>\n",
              "      <td>0</td>\n",
              "      <td>0</td>\n",
              "      <td>0</td>\n",
              "      <td>0</td>\n",
              "      <td>0</td>\n",
              "      <td>0</td>\n",
              "      <td>0</td>\n",
              "      <td>0</td>\n",
              "    </tr>\n",
              "    <tr>\n",
              "      <th>180</th>\n",
              "      <td>1</td>\n",
              "      <td>0</td>\n",
              "      <td>0</td>\n",
              "      <td>0</td>\n",
              "      <td>0</td>\n",
              "      <td>0</td>\n",
              "      <td>0</td>\n",
              "      <td>0</td>\n",
              "      <td>0</td>\n",
              "      <td>0</td>\n",
              "      <td>...</td>\n",
              "      <td>0</td>\n",
              "      <td>0</td>\n",
              "      <td>0</td>\n",
              "      <td>0</td>\n",
              "      <td>0</td>\n",
              "      <td>0</td>\n",
              "      <td>0</td>\n",
              "      <td>0</td>\n",
              "      <td>0</td>\n",
              "      <td>0</td>\n",
              "    </tr>\n",
              "    <tr>\n",
              "      <th>181</th>\n",
              "      <td>0</td>\n",
              "      <td>0</td>\n",
              "      <td>0</td>\n",
              "      <td>0</td>\n",
              "      <td>0</td>\n",
              "      <td>0</td>\n",
              "      <td>0</td>\n",
              "      <td>0</td>\n",
              "      <td>0</td>\n",
              "      <td>0</td>\n",
              "      <td>...</td>\n",
              "      <td>0</td>\n",
              "      <td>0</td>\n",
              "      <td>0</td>\n",
              "      <td>0</td>\n",
              "      <td>0</td>\n",
              "      <td>0</td>\n",
              "      <td>0</td>\n",
              "      <td>1</td>\n",
              "      <td>0</td>\n",
              "      <td>0</td>\n",
              "    </tr>\n",
              "    <tr>\n",
              "      <th>187</th>\n",
              "      <td>1</td>\n",
              "      <td>0</td>\n",
              "      <td>0</td>\n",
              "      <td>0</td>\n",
              "      <td>0</td>\n",
              "      <td>0</td>\n",
              "      <td>0</td>\n",
              "      <td>0</td>\n",
              "      <td>0</td>\n",
              "      <td>0</td>\n",
              "      <td>...</td>\n",
              "      <td>0</td>\n",
              "      <td>0</td>\n",
              "      <td>0</td>\n",
              "      <td>0</td>\n",
              "      <td>0</td>\n",
              "      <td>0</td>\n",
              "      <td>0</td>\n",
              "      <td>0</td>\n",
              "      <td>0</td>\n",
              "      <td>0</td>\n",
              "    </tr>\n",
              "    <tr>\n",
              "      <th>192</th>\n",
              "      <td>0</td>\n",
              "      <td>0</td>\n",
              "      <td>0</td>\n",
              "      <td>0</td>\n",
              "      <td>0</td>\n",
              "      <td>0</td>\n",
              "      <td>0</td>\n",
              "      <td>0</td>\n",
              "      <td>0</td>\n",
              "      <td>0</td>\n",
              "      <td>...</td>\n",
              "      <td>0</td>\n",
              "      <td>0</td>\n",
              "      <td>0</td>\n",
              "      <td>0</td>\n",
              "      <td>0</td>\n",
              "      <td>0</td>\n",
              "      <td>0</td>\n",
              "      <td>0</td>\n",
              "      <td>0</td>\n",
              "      <td>0</td>\n",
              "    </tr>\n",
              "  </tbody>\n",
              "</table>\n",
              "<p>5 rows × 297 columns</p>\n",
              "</div>"
            ],
            "text/plain": [
              "     binary  4PanelCringe  ACPocketCamp  AFL  ATBGE  AbandonedPorn  \\\n",
              "178       0             0             0    0      0              0   \n",
              "180       1             0             0    0      0              0   \n",
              "181       0             0             0    0      0              0   \n",
              "187       1             0             0    0      0              0   \n",
              "192       0             0             0    0      0              0   \n",
              "\n",
              "     AccidentalWesAnderson  Android  AnimalsBeingBros  AnimalsBeingDerps  \\\n",
              "178                      0        0                 0                  0   \n",
              "180                      0        0                 0                  0   \n",
              "181                      0        0                 0                  0   \n",
              "187                      0        0                 0                  0   \n",
              "192                      0        0                 0                  0   \n",
              "\n",
              "     ...    videos  wallstreetbets  warriors  westworld  wholesomememes  \\\n",
              "178  ...         0               0         0          0               0   \n",
              "180  ...         0               0         0          0               0   \n",
              "181  ...         0               0         0          0               0   \n",
              "187  ...         0               0         0          0               0   \n",
              "192  ...         0               0         0          0               0   \n",
              "\n",
              "     woof_irl  worldnews  yesyesyesyesno  youtubehaiku  zelda  \n",
              "178         0          0               0             0      0  \n",
              "180         0          0               0             0      0  \n",
              "181         0          0               1             0      0  \n",
              "187         0          0               0             0      0  \n",
              "192         0          0               0             0      0  \n",
              "\n",
              "[5 rows x 297 columns]"
            ]
          },
          "execution_count": 9,
          "metadata": {},
          "output_type": "execute_result"
        }
      ],
      "source": [
        "df_subred = pd.concat([df['binary'],pd.get_dummies(df['subreddits'], drop_first = True)], axis = 1)\n",
        "df_subred.shape\n",
        "df_subred.head()"
      ]
    },
    {
      "cell_type": "code",
      "execution_count": null,
      "metadata": {
        "id": "pfvD8ZYyqnRB"
      },
      "outputs": [],
      "source": [
        "df_subred.to_csv('subred_1.csv')"
      ]
    },
    {
      "cell_type": "markdown",
      "metadata": {
        "id": "VbRgN9fxqnRB"
      },
      "source": [
        "### A simple case:\n",
        "\n",
        "In the rest of the notebook I will perform a grid search to find optimal hyperparameters. Before that, however, for simplicity and purposes of illustration, I will consider a simple example with some already chosen parameters."
      ]
    },
    {
      "cell_type": "markdown",
      "metadata": {
        "id": "G8xZMCl_qnRB"
      },
      "source": [
        "I will now train a Random Forest Classifier using the following function `rfTTscore` (the name stands for \"random forest train/test score\"). It does the following:\n",
        "- Separates the data into predictors and target\n",
        "- Splits the data into training and testing sets\n",
        "- Instantiates a `RandomForestClassifier` and train it (i.e. fit it) on the training data\n",
        "- Now, applying the model, which was fitted *using the training data*, to the remaining data i.e. the testing data, we evaluate the accuracy of the model using the mean accuracy score `.score`:\n",
        "\n",
        "$$ {\\text{mean accuracy score}} = \\frac{{{\\text{number of correct predictions}}}}{{{\\text{number of observations}}}}$$\n",
        "- We print out the class predictions\n",
        "- We then print out the predicting probabilities\n",
        "- The following lines build a confusion matrix\n",
        "- Finally, the main features are printed out with the corresponding bar plot"
      ]
    },
    {
      "cell_type": "code",
      "execution_count": null,
      "metadata": {
        "id": "rd4Byxi0qnRB",
        "outputId": "beaa5d83-efb1-4095-cd65-5f507e2244c4"
      },
      "outputs": [
        {
          "name": "stdout",
          "output_type": "stream",
          "text": [
            "The mean accuracy score is: 0.51\n",
            "\n",
            "Is the prediction smaller (S) or larger (L) than the median:\n",
            "\n",
            "['S', 'L', 'S', 'S', 'S', 'S', 'L', 'S', 'S', 'S', 'L', 'S', 'S', 'S', 'L', 'S', 'L', 'L', 'L', 'L', 'S', 'S', 'S', 'S', 'S', 'S', 'L', 'L', 'S', 'L', 'S', 'L', 'S', 'L', 'S', 'S', 'S', 'S', 'S', 'S', 'S', 'S', 'S', 'S', 'S', 'S', 'S', 'S', 'S', 'S', 'S', 'S', 'S', 'L', 'S', 'S', 'S', 'S', 'S', 'S', 'S', 'S', 'S', 'L', 'S', 'S', 'S', 'S', 'S', 'S', 'L', 'S', 'S', 'S', 'S', 'S', 'S', 'S', 'S', 'S', 'S', 'S', 'S', 'S', 'S', 'S', 'L', 'S', 'S', 'S', 'L', 'L', 'S', 'S', 'S', 'S', 'S', 'S', 'S', 'S', 'L', 'S', 'S', 'S', 'L', 'S', 'S', 'S', 'S', 'L', 'S', 'S', 'S', 'L', 'S', 'S', 'S', 'L', 'S', 'S', 'S', 'S', 'S', 'S', 'S', 'L', 'L', 'L', 'S', 'L', 'S', 'S', 'S', 'S', 'S', 'S', 'L', 'S', 'S', 'S', 'S', 'S', 'L', 'S', 'S', 'S', 'S', 'S', 'S', 'S', 'S', 'S', 'L', 'S']\n",
            "\n",
            "What were the probabilities of the each result above:\n",
            "\n",
            "Probabilities that the number of comments is smaller than the media for each observation are:\n",
            "\n",
            "[('S', 0.57), ('S', 0.42), ('S', 0.57), ('S', 0.57), ('S', 0.57), ('S', 0.57), ('S', 0.4), ('S', 0.57), ('S', 0.5), ('S', 0.57), ('S', 0.25), ('S', 0.57), ('S', 0.54), ('S', 0.59), ('S', 0.46), ('S', 0.57), ('S', 0.47), ('S', 0.4), ('S', 0.42), ('S', 0.22), ('S', 0.57), ('S', 0.57), ('S', 0.57), ('S', 0.57), ('S', 0.57), ('S', 0.57), ('S', 0.25), ('S', 0.23), ('S', 0.66), ('S', 0.4), ('S', 0.59), ('S', 0.25), ('S', 0.57), ('S', 0.25), ('S', 0.57), ('S', 0.57), ('S', 0.57), ('S', 0.59), ('S', 0.66), ('S', 0.57), ('S', 0.57), ('S', 0.65), ('S', 0.57), ('S', 0.57), ('S', 0.57), ('S', 0.58), ('S', 0.58), ('S', 0.57), ('S', 0.57), ('S', 0.57), ('S', 0.66), ('S', 0.5), ('S', 0.57), ('S', 0.22), ('S', 0.57), ('S', 0.57), ('S', 0.57), ('S', 0.57), ('S', 0.5), ('S', 0.57), ('S', 0.57), ('S', 0.57), ('S', 0.57), ('S', 0.47), ('S', 0.57), ('S', 0.66), ('S', 0.57), ('S', 0.57), ('S', 0.57), ('S', 0.57), ('S', 0.25), ('S', 0.57), ('S', 0.62), ('S', 0.57), ('S', 0.6), ('S', 0.66), ('S', 0.57), ('S', 0.57), ('S', 0.58), ('S', 0.58), ('S', 0.66), ('S', 0.57), ('S', 0.57), ('S', 0.57), ('S', 0.57), ('S', 0.57), ('S', 0.32), ('S', 0.57), ('S', 0.6), ('S', 0.66), ('S', 0.42), ('S', 0.22), ('S', 0.59), ('S', 0.57), ('S', 0.57), ('S', 0.62), ('S', 0.57), ('S', 0.66), ('S', 0.57), ('S', 0.57), ('S', 0.25), ('S', 0.58), ('S', 0.55), ('S', 0.57), ('S', 0.25), ('S', 0.57), ('S', 0.57), ('S', 0.59), ('S', 0.57), ('S', 0.4), ('S', 0.68), ('S', 0.53), ('S', 0.57), ('S', 0.22), ('S', 0.64), ('S', 0.57), ('S', 0.57), ('S', 0.47), ('S', 0.57), ('S', 0.52), ('S', 0.68), ('S', 0.66), ('S', 0.57), ('S', 0.57), ('S', 0.57), ('S', 0.22), ('S', 0.25), ('S', 0.25), ('S', 0.57), ('S', 0.18), ('S', 0.57), ('S', 0.57), ('S', 0.57), ('S', 0.58), ('S', 0.58), ('S', 0.53), ('S', 0.4), ('S', 0.57), ('S', 0.57), ('S', 0.57), ('S', 0.57), ('S', 0.59), ('S', 0.47), ('S', 0.57), ('S', 0.57), ('S', 0.57), ('S', 0.57), ('S', 0.57), ('S', 0.57), ('S', 0.58), ('S', 0.57), ('S', 0.57), ('S', 0.18), ('S', 0.57)]\n",
            "\n",
            "Confusion Matrix:\n",
            "\n",
            "Predicted Values   0   1\n",
            "Actual Values           \n",
            "0                 61  13\n",
            "1                 62  18\n",
            "Features and their importance:\n",
            "\n",
            "AxesSubplot(0.125,0.125;0.775x0.755)\n"
          ]
        },
        {
          "data": {
            "image/png": "[encoded data removed]",
            "text/plain": [
              "<matplotlib.figure.Figure at 0x1a19ae1940>"
            ]
          },
          "metadata": {},
          "output_type": "display_data"
        }
      ],
      "source": [
        "def rfTTscore(df,target_col,test_size,n_estimators,max_depth):\n",
        "\n",
        "    X = df.drop(target_col, axis=1)   # define predictors\n",
        "    y = df[target_col]                # defines target\n",
        "\n",
        "    X_train, X_test, y_train, y_test = train_test_split(X,\n",
        "                                                        y, test_size = test_size, random_state=42) # train/test split\n",
        "\n",
        "    rf = RandomForestClassifier(max_depth = max_depth, n_estimators = n_estimators)    #instantiates model\n",
        "    rf.fit(X_train,y_train)      # fit the model to the training data\n",
        "\n",
        "    # .score returns the mean accuracy on the test data\n",
        "\n",
        "    print(\"The mean accuracy score is:\",round(rf.score(X_test,y_test),2))\n",
        "    print(\"\")\n",
        "    print(\"Is the prediction smaller (S) or larger (L) than the median:\\n\")\n",
        "    preds = rf.predict(X_test)\n",
        "    print(['S' if p == 0 else 'L' for p in rf.predict(X_test)])\n",
        "    print(\"\")\n",
        "    print(\"What were the probabilities of the each result above:\\n\")\n",
        "    print(\"Probabilities that the number of comments is smaller than the media for each observation are:\\n\")\n",
        "    print([('S',round(p[0],2)) if p[0] > p[1] else ('S',round(p[0],2)) for p in rf.predict_proba(X_test)])\n",
        "    print(\"\")\n",
        "    print(\"Confusion Matrix:\\n\")\n",
        "    print(pd.crosstab(pd.concat([X_test,y_test],axis=1)['binary'], preds, rownames=['Actual Values'], colnames=['Predicted Values']))\n",
        "    print('Features and their importance:\\n')\n",
        "    feature_importances = pd.Series(rf.feature_importances_, index=X.columns).sort_values().tail(5)\n",
        "    print(feature_importances.plot(kind=\"barh\", figsize=(6,6)))\n",
        "    return\n",
        "\n",
        "rfTTscore(df_subred,'binary',0.3,25,20)"
      ]
    },
    {
      "cell_type": "markdown",
      "metadata": {
        "id": "fmMQ-5GVqnRB"
      },
      "source": [
        "### Comments:\n",
        "\n",
        "- Using the subreddits only as predictors, the mean accuracy score is mediocre, slighly above the baseline value.\n",
        "- The probabilities used for classifying the preditions are close to $50\\%$.\n",
        "- The main features are`pics`, and `gaming`"
      ]
    },
    {
      "cell_type": "markdown",
      "metadata": {
        "id": "FJq36KIIqnRB"
      },
      "source": [
        "## 6) Model building II\n",
        "\n",
        "I will now proceed with `GridSearchCV` on the training data (following lesson 4.07). The `GridSearchCV` looks for optimal hyperparameters. The function below does the following:\n",
        "- Separates the data into predictors and target\n",
        "- Splits the data into training and testing sets\n",
        "- Defines a set of hyperparameters `rf_params` which are related to the random forest classification model (see scikitLearn documentation for more details)\n",
        "- Instantiates `GridSearchCV`. The latter does the following (this is taken from `scikitLearn` docs):\n",
        "  - Searches over specified parameter values of ranges for an estimator, in this case a `RandomForestClassifier`.\n",
        "  - Implements a `fit` and a `score` method.\n",
        "  - The parameters of the estimator are optimized by cross-validated grid-search over a parameter grid.\n",
        "- The `RandomForestClassifier` is fitted to the training data\n",
        "- The best parameters obtained by fitting `GridSearchCV` on the training are printed\n",
        "- A `RandomForestClassifier` with optimized hyperparameters is instantiated and trained on the training data\n",
        "- The mean accuracy score is evaluated in the testing data\n",
        "- We print out the class predictions\n",
        "- We then print out the predicting probabilities\n",
        "- The following lines build a confusion matrix\n",
        "- Finally, the main features are printed out with the corresponding bar plot"
      ]
    },
    {
      "cell_type": "code",
      "execution_count": null,
      "metadata": {
        "id": "fhuFv6bSqnRB"
      },
      "outputs": [],
      "source": [
        "# Defining ranges for the hyperparameters to be scanned by the grid search\n",
        "n_estimators = list(range(20,220,10))\n",
        "max_depth = list(range(2, 22, 2)) + [None]\n",
        "\n",
        "def rfscore2(df,target_col,test_size,n_estimators,max_depth):\n",
        "\n",
        "    X = df.drop(target_col, axis=1)   # predictors\n",
        "    y = df[target_col]                # target\n",
        "\n",
        "    X_train, X_test, y_train, y_test = train_test_split(X,\n",
        "                                                        y, test_size = test_size, random_state=42) # TT split\n",
        "    rf_params = {\n",
        "             'n_estimators':n_estimators,\n",
        "             'max_depth':max_depth}   # parameters for grid search\n",
        "    rf_gs = GridSearchCV(RandomForestClassifier(), rf_params, cv=5, verbose=1, n_jobs=-1)\n",
        "    rf_gs.fit(X_train,y_train) # training the random forest with all possible parameters\n",
        "    print('GridSearch results')\n",
        "    print('The best parameters on the training data are:\\n',rf_gs.best_params_) # printing the best parameters\n",
        "    max_depth_best = rf_gs.best_params_['max_depth']      # getting the best max_depth\n",
        "    n_estimators_best = rf_gs.best_params_['n_estimators']  # getting the best n_estimators\n",
        "    print(\"best max_depth:\",max_depth_best)\n",
        "    print(\"best n_estimators:\",n_estimators_best)\n",
        "    best_rf_gs = RandomForestClassifier(max_depth=max_depth_best,n_estimators=n_estimators_best) # instantiate the best model\n",
        "    best_rf_gs.fit(X_train,y_train)  # fitting the best model\n",
        "    best_rf_score = best_rf_gs.score(X_test,y_test)\n",
        "    print (\"best score is:\",round(best_rf_score,2))\n",
        "    print(\"Is the prediction smaller (S) or larger (L) than the median:\\n\")\n",
        "    preds = best_rf_gs.predict(X_test)\n",
        "    print(['S' if p == 0 else 'L' for p in best_rf_gs.predict(X_test)])\n",
        "    print(\"\")\n",
        "    print(\"What were the probabilities of the each result above:\\n\")\n",
        "    print(\"Probabilities that the number of comments is smaller than the media for each observation are:\\n\")\n",
        "    print([('S',round(p[0],2)) if p[0] > p[1] else ('S',round(p[0],2)) for p in best_rf_gs.predict_proba(X_test)])\n",
        "    print(\"\")\n",
        "    print(\"Confusion Matrix:\\n\")\n",
        "    print(pd.crosstab(pd.concat([X_test,y_test],axis=1)['binary'], preds, rownames=['Actual Values'], colnames=['Predicted Values']))\n",
        "    print('Features and their importance:\\n')\n",
        "    feature_importances = pd.Series(best_rf_gs.feature_importances_, index=X.columns).sort_values().tail(5)\n",
        "    print(feature_importances.plot(kind=\"barh\", figsize=(6,6)))\n",
        "    return"
      ]
    },
    {
      "cell_type": "code",
      "execution_count": null,
      "metadata": {
        "scrolled": true,
        "id": "B-KJvvYoqnRC",
        "outputId": "7ea625a3-4b91-456f-aaac-26414404465a"
      },
      "outputs": [
        {
          "name": "stdout",
          "output_type": "stream",
          "text": [
            "Fitting 5 folds for each of 110 candidates, totalling 550 fits\n"
          ]
        },
        {
          "name": "stderr",
          "output_type": "stream",
          "text": [
            "[Parallel(n_jobs=-1)]: Done  76 tasks      | elapsed:    5.9s\n",
            "[Parallel(n_jobs=-1)]: Done 317 tasks      | elapsed:   27.3s\n",
            "[Parallel(n_jobs=-1)]: Done 550 out of 550 | elapsed:   49.7s finished\n"
          ]
        },
        {
          "name": "stdout",
          "output_type": "stream",
          "text": [
            "GridSearch results\n",
            "The best parameters on the training data are:\n",
            " {'max_depth': 8, 'n_estimators': 100}\n",
            "best max_depth: 8\n",
            "best n_estimators: 100\n",
            "best score is: 0.53\n",
            "Is the prediction smaller (S) or larger (L) than the median:\n",
            "\n",
            "['S', 'L', 'S', 'S', 'S', 'S', 'L', 'S', 'S', 'S', 'L', 'S', 'S', 'S', 'S', 'S', 'S', 'L', 'L', 'L', 'S', 'S', 'S', 'S', 'S', 'S', 'L', 'L', 'S', 'L', 'S', 'L', 'S', 'L', 'S', 'S', 'S', 'S', 'S', 'S', 'S', 'S', 'S', 'S', 'S', 'S', 'S', 'S', 'S', 'S', 'S', 'L', 'S', 'L', 'S', 'S', 'S', 'S', 'L', 'S', 'S', 'S', 'S', 'S', 'S', 'S', 'S', 'S', 'S', 'S', 'L', 'S', 'S', 'S', 'S', 'S', 'S', 'S', 'S', 'S', 'S', 'S', 'S', 'S', 'S', 'S', 'L', 'S', 'S', 'S', 'L', 'L', 'S', 'S', 'S', 'S', 'S', 'S', 'S', 'S', 'L', 'S', 'S', 'S', 'L', 'S', 'S', 'S', 'S', 'L', 'S', 'L', 'S', 'L', 'S', 'S', 'S', 'L', 'S', 'S', 'S', 'S', 'S', 'S', 'S', 'L', 'L', 'L', 'S', 'L', 'S', 'S', 'S', 'S', 'S', 'L', 'L', 'S', 'S', 'S', 'S', 'S', 'S', 'S', 'S', 'S', 'S', 'S', 'S', 'S', 'S', 'S', 'L', 'S']\n",
            "\n",
            "What were the probabilities of the each result above:\n",
            "\n",
            "Probabilities that the number of comments is smaller than the media for each observation are:\n",
            "\n",
            "[('S', 0.53), ('S', 0.44), ('S', 0.53), ('S', 0.53), ('S', 0.53), ('S', 0.53), ('S', 0.45), ('S', 0.53), ('S', 0.51), ('S', 0.53), ('S', 0.36), ('S', 0.53), ('S', 0.51), ('S', 0.53), ('S', 0.53), ('S', 0.53), ('S', 0.51), ('S', 0.45), ('S', 0.44), ('S', 0.31), ('S', 0.53), ('S', 0.53), ('S', 0.53), ('S', 0.53), ('S', 0.53), ('S', 0.53), ('S', 0.36), ('S', 0.48), ('S', 0.57), ('S', 0.45), ('S', 0.52), ('S', 0.36), ('S', 0.53), ('S', 0.36), ('S', 0.53), ('S', 0.53), ('S', 0.53), ('S', 0.54), ('S', 0.57), ('S', 0.53), ('S', 0.53), ('S', 0.59), ('S', 0.53), ('S', 0.53), ('S', 0.53), ('S', 0.53), ('S', 0.53), ('S', 0.53), ('S', 0.53), ('S', 0.53), ('S', 0.56), ('S', 0.48), ('S', 0.53), ('S', 0.31), ('S', 0.53), ('S', 0.53), ('S', 0.53), ('S', 0.53), ('S', 0.48), ('S', 0.53), ('S', 0.53), ('S', 0.53), ('S', 0.53), ('S', 0.53), ('S', 0.52), ('S', 0.56), ('S', 0.53), ('S', 0.53), ('S', 0.53), ('S', 0.53), ('S', 0.36), ('S', 0.53), ('S', 0.56), ('S', 0.53), ('S', 0.54), ('S', 0.54), ('S', 0.53), ('S', 0.53), ('S', 0.54), ('S', 0.54), ('S', 0.57), ('S', 0.53), ('S', 0.53), ('S', 0.54), ('S', 0.53), ('S', 0.53), ('S', 0.48), ('S', 0.53), ('S', 0.52), ('S', 0.57), ('S', 0.44), ('S', 0.31), ('S', 0.53), ('S', 0.53), ('S', 0.53), ('S', 0.56), ('S', 0.53), ('S', 0.56), ('S', 0.53), ('S', 0.53), ('S', 0.38), ('S', 0.54), ('S', 0.52), ('S', 0.53), ('S', 0.36), ('S', 0.53), ('S', 0.53), ('S', 0.53), ('S', 0.53), ('S', 0.45), ('S', 0.61), ('S', 0.48), ('S', 0.53), ('S', 0.31), ('S', 0.56), ('S', 0.53), ('S', 0.53), ('S', 0.49), ('S', 0.53), ('S', 0.53), ('S', 0.61), ('S', 0.57), ('S', 0.53), ('S', 0.53), ('S', 0.53), ('S', 0.31), ('S', 0.36), ('S', 0.36), ('S', 0.53), ('S', 0.37), ('S', 0.53), ('S', 0.53), ('S', 0.53), ('S', 0.53), ('S', 0.54), ('S', 0.48), ('S', 0.45), ('S', 0.53), ('S', 0.53), ('S', 0.52), ('S', 0.53), ('S', 0.53), ('S', 0.53), ('S', 0.52), ('S', 0.53), ('S', 0.53), ('S', 0.53), ('S', 0.53), ('S', 0.53), ('S', 0.53), ('S', 0.53), ('S', 0.53), ('S', 0.37), ('S', 0.53)]\n",
            "\n",
            "Confusion Matrix:\n",
            "\n",
            "Predicted Values   0   1\n",
            "Actual Values           \n",
            "0                 62  12\n",
            "1                 61  19\n",
            "Features and their importance:\n",
            "\n",
            "AxesSubplot(0.125,0.125;0.775x0.755)\n"
          ]
        },
        {
          "data": {
            "image/png": "[encoded data removed]",
            "text/plain": [
              "<matplotlib.figure.Figure at 0x1a19c73518>"
            ]
          },
          "metadata": {},
          "output_type": "display_data"
        }
      ],
      "source": [
        "rfscore2(df_subred,'binary',0.3,n_estimators,max_depth)"
      ]
    },
    {
      "cell_type": "markdown",
      "metadata": {
        "id": "K4hrZnzQqnRC"
      },
      "source": [
        "### Comments:\n",
        "\n",
        "- Again, using the subreddits only as predictors, the mean accuracy score is only slighly above the baseline value.\n",
        "- Again, the probabilities used for classifying the predictions are close to $50\\%$.\n",
        "- The main features continue to be `pics`, and `gaming`"
      ]
    },
    {
      "cell_type": "markdown",
      "metadata": {
        "id": "4EiJm0eSqnRC"
      },
      "source": [
        "## 6) Model building III\n",
        "\n",
        "The following function is essentially the same as the one above but:\n",
        "- The parameter space is larger\n",
        "- The fitting procedure is different (the reason will be discussed later)."
      ]
    },
    {
      "cell_type": "code",
      "execution_count": null,
      "metadata": {
        "id": "ZnxDE6G4qnRC"
      },
      "outputs": [],
      "source": [
        "def rfscore_3(df,target_col,cv):\n",
        "\n",
        "    X = df.drop(target_col, axis=1)   # predictors\n",
        "    y = df[target_col]                # target\n",
        "\n",
        "    rf_params = {\n",
        "             'n_estimators':list(range(20,220,10)),\n",
        "             'min_samples_split':list(range(2, 11, 2)),\n",
        "             'max_depth':list(range(2, 22, 2)) + [None]}\n",
        "\n",
        "    rf_gs = GridSearchCV(RandomForestClassifier(), rf_params, cv=cv, verbose=1, n_jobs=-1)\n",
        "    rf_gs.fit(X,y) # training the random forest with all possible parameters\n",
        "    print('GridSearch results')\n",
        "    print('The best parameters on the training data are:\\n',rf_gs.best_params_) # printing the best parameters\n",
        "    max_depth_best = rf_gs.best_params_['max_depth']      # getting the best max_depth\n",
        "    n_estimators_best = rf_gs.best_params_['n_estimators']  # getting the best n_estimators\n",
        "    print(\"best max_depth:\",max_depth_best)\n",
        "    print(\"best n_estimators:\",n_estimators_best)\n",
        "    best_rf_gs = RandomForestClassifier(max_depth=max_depth_best,n_estimators=n_estimators_best) # instantiate the best model\n",
        "    best_rf_gs.fit(X,y)  # fitting the best model\n",
        "    best_rf_score = best_rf_gs.score(X,y)\n",
        "    print (\"best score is:\",round(best_rf_score,2))\n",
        "    print(\"Is the prediction smaller (S) or larger (L) than the median:\\n\")\n",
        "    preds = best_rf_gs.predict(X)\n",
        "    print(['S' if p == 0 else 'L' for p in best_rf_gs.predict(X)])\n",
        "    print(\"\")\n",
        "    print(\"What were the probabilities of the each result above:\\n\")\n",
        "    print(\"Probabilities that the number of comments is smaller than the media for each observation are:\\n\")\n",
        "    print([('S',round(p[0],2)) if p[0] > p[1] else ('S',round(p[0],2)) for p in best_rf_gs.predict_proba(X)])\n",
        "    print(\"\")\n",
        "    print(\"Confusion Matrix:\\n\")\n",
        "    print(pd.crosstab(pd.concat([X,y],axis=1)['binary'], preds, rownames=['Actual Values'], colnames=['Predicted Values']))\n",
        "    print('Features and their importance:\\n')\n",
        "    feature_importances = pd.Series(best_rf_gs.feature_importances_, index=X.columns).sort_values().tail(5)\n",
        "    print(feature_importances.plot(kind=\"barh\", figsize=(6,6)))\n",
        "    return"
      ]
    },
    {
      "cell_type": "code",
      "execution_count": null,
      "metadata": {
        "scrolled": true,
        "id": "DSzQbAjsqnRC",
        "outputId": "d952c458-dc4a-4029-d5f2-ade9cf34db09"
      },
      "outputs": [
        {
          "name": "stdout",
          "output_type": "stream",
          "text": [
            "Fitting 5 folds for each of 1100 candidates, totalling 5500 fits\n"
          ]
        },
        {
          "name": "stderr",
          "output_type": "stream",
          "text": [
            "[Parallel(n_jobs=-1)]: Done  75 tasks      | elapsed:    8.3s\n",
            "[Parallel(n_jobs=-1)]: Done 226 tasks      | elapsed:   35.0s\n",
            "[Parallel(n_jobs=-1)]: Done 476 tasks      | elapsed:  1.3min\n",
            "[Parallel(n_jobs=-1)]: Done 826 tasks      | elapsed:  2.3min\n",
            "[Parallel(n_jobs=-1)]: Done 1276 tasks      | elapsed:  3.5min\n",
            "[Parallel(n_jobs=-1)]: Done 1826 tasks      | elapsed:  5.1min\n",
            "[Parallel(n_jobs=-1)]: Done 2476 tasks      | elapsed:  7.0min\n",
            "[Parallel(n_jobs=-1)]: Done 3226 tasks      | elapsed:  9.1min\n",
            "[Parallel(n_jobs=-1)]: Done 4076 tasks      | elapsed: 11.5min\n",
            "[Parallel(n_jobs=-1)]: Done 5026 tasks      | elapsed: 14.0min\n",
            "[Parallel(n_jobs=-1)]: Done 5500 out of 5500 | elapsed: 16.0min finished\n"
          ]
        },
        {
          "name": "stdout",
          "output_type": "stream",
          "text": [
            "GridSearch results\n",
            "The best parameters on the training data are:\n",
            " {'max_depth': 4, 'min_samples_split': 8, 'n_estimators': 180}\n",
            "best max_depth: 4\n",
            "best n_estimators: 180\n",
            "best score is: 0.72\n",
            "Is the prediction smaller (S) or larger (L) than the median:\n",
            "\n",
            "['S', 'L', 'S', 'S', 'S', 'S', 'S', 'S', 'L', 'L', 'L', 'L', 'S', 'L', 'S', 'S', 'S', 'S', 'S', 'L', 'L', 'S', 'S', 'L', 'S', 'S', 'S', 'S', 'S', 'S', 'L', 'S', 'L', 'L', 'S', 'L', 'S', 'L', 'L', 'S', 'S', 'L', 'L', 'S', 'S', 'S', 'L', 'S', 'S', 'S', 'L', 'L', 'S', 'S', 'S', 'L', 'S', 'S', 'L', 'S', 'S', 'S', 'S', 'L', 'L', 'S', 'L', 'L', 'S', 'S', 'L', 'S', 'S', 'S', 'S', 'S', 'L', 'L', 'L', 'S', 'L', 'L', 'S', 'S', 'S', 'S', 'L', 'S', 'S', 'S', 'S', 'S', 'S', 'L', 'S', 'S', 'S', 'S', 'S', 'S', 'S', 'S', 'S', 'L', 'L', 'S', 'S', 'S', 'L', 'L', 'S', 'S', 'L', 'L', 'L', 'L', 'S', 'L', 'S', 'S', 'S', 'S', 'S', 'S', 'S', 'S', 'S', 'S', 'S', 'S', 'S', 'S', 'S', 'S', 'S', 'S', 'S', 'S', 'S', 'L', 'S', 'S', 'L', 'S', 'S', 'S', 'S', 'S', 'S', 'L', 'S', 'S', 'S', 'S', 'S', 'L', 'S', 'S', 'S', 'S', 'L', 'S', 'S', 'S', 'S', 'S', 'S', 'S', 'S', 'L', 'S', 'S', 'S', 'L', 'L', 'L', 'S', 'S', 'L', 'S', 'S', 'L', 'L', 'L', 'L', 'L', 'S', 'L', 'S', 'L', 'L', 'L', 'S', 'L', 'L', 'L', 'S', 'S', 'S', 'L', 'L', 'L', 'S', 'S', 'L', 'S', 'L', 'L', 'S', 'S', 'S', 'S', 'L', 'L', 'S', 'S', 'S', 'S', 'S', 'S', 'S', 'L', 'S', 'S', 'S', 'S', 'S', 'S', 'S', 'L', 'S', 'L', 'S', 'S', 'L', 'S', 'S', 'S', 'L', 'S', 'S', 'S', 'L', 'S', 'S', 'L', 'L', 'L', 'S', 'L', 'L', 'L', 'S', 'S', 'S', 'S', 'L', 'S', 'L', 'S', 'L', 'S', 'L', 'S', 'S', 'S', 'S', 'S', 'L', 'S', 'S', 'L', 'S', 'S', 'S', 'L', 'L', 'S', 'L', 'L', 'S', 'S', 'L', 'S', 'L', 'L', 'S', 'S', 'S', 'L', 'S', 'S', 'S', 'S', 'S', 'S', 'S', 'L', 'L', 'S', 'S', 'L', 'S', 'S', 'S', 'L', 'S', 'S', 'S', 'S', 'S', 'S', 'L', 'S', 'L', 'L', 'S', 'S', 'S', 'S', 'L', 'S', 'L', 'L', 'L', 'S', 'S', 'L', 'S', 'L', 'S', 'L', 'L', 'S', 'S', 'S', 'S', 'S', 'S', 'S', 'L', 'L', 'S', 'L', 'S', 'S', 'L', 'S', 'L', 'S', 'S', 'S', 'S', 'S', 'S', 'S', 'S', 'L', 'S', 'S', 'S', 'L', 'S', 'S', 'S', 'S', 'S', 'L', 'S', 'S', 'S', 'S', 'L', 'L', 'S', 'L', 'L', 'S', 'L', 'S', 'L', 'S', 'L', 'S', 'S', 'L', 'S', 'S', 'S', 'S', 'S', 'S', 'S', 'S', 'S', 'S', 'L', 'L', 'S', 'L', 'S', 'S', 'S', 'S', 'S', 'S', 'S', 'S', 'S', 'S', 'S', 'S', 'S', 'L', 'L', 'S', 'S', 'S', 'S', 'S', 'S', 'S', 'S', 'L', 'S', 'S', 'S', 'S', 'S', 'S', 'S', 'S', 'S', 'L', 'S', 'S', 'S', 'S', 'L', 'S', 'S', 'S', 'L', 'L', 'S', 'L', 'S', 'S', 'S', 'S', 'S', 'L', 'S', 'S', 'S', 'S', 'S', 'S', 'S', 'S', 'S', 'S', 'S', 'S', 'S', 'S', 'L', 'L', 'L', 'S', 'L', 'L', 'S', 'S', 'S', 'L', 'L', 'L', 'S', 'L', 'S', 'L', 'S', 'L', 'L', 'S', 'S', 'S', 'S', 'S', 'S', 'S', 'L', 'S', 'L', 'L', 'L', 'S', 'L', 'L', 'S', 'S', 'S', 'S', 'S', 'S', 'L', 'S', 'L', 'L', 'S', 'L']\n",
            "\n",
            "What were the probabilities of the each result above:\n",
            "\n",
            "Probabilities that the number of comments is smaller than the media for each observation are:\n",
            "\n",
            "[('S', 0.51), ('S', 0.5), ('S', 0.51), ('S', 0.5), ('S', 0.53), ('S', 0.51), ('S', 0.51), ('S', 0.51), ('S', 0.49), ('S', 0.49), ('S', 0.49), ('S', 0.49), ('S', 0.5), ('S', 0.48), ('S', 0.5), ('S', 0.54), ('S', 0.5), ('S', 0.52), ('S', 0.52), ('S', 0.4), ('S', 0.49), ('S', 0.5), ('S', 0.52), ('S', 0.5), ('S', 0.52), ('S', 0.51), ('S', 0.51), ('S', 0.5), ('S', 0.54), ('S', 0.51), ('S', 0.49), ('S', 0.51), ('S', 0.49), ('S', 0.49), ('S', 0.54), ('S', 0.49), ('S', 0.53), ('S', 0.43), ('S', 0.43), ('S', 0.5), ('S', 0.51), ('S', 0.43), ('S', 0.49), ('S', 0.51), ('S', 0.52), ('S', 0.51), ('S', 0.46), ('S', 0.52), ('S', 0.51), ('S', 0.51), ('S', 0.5), ('S', 0.5), ('S', 0.51), ('S', 0.51), ('S', 0.52), ('S', 0.5), ('S', 0.51), ('S', 0.51), ('S', 0.49), ('S', 0.51), ('S', 0.52), ('S', 0.51), ('S', 0.51), ('S', 0.4), ('S', 0.49), ('S', 0.51), ('S', 0.39), ('S', 0.49), ('S', 0.56), ('S', 0.51), ('S', 0.5), ('S', 0.51), ('S', 0.51), ('S', 0.54), ('S', 0.5), ('S', 0.5), ('S', 0.49), ('S', 0.5), ('S', 0.5), ('S', 0.5), ('S', 0.39), ('S', 0.46), ('S', 0.51), ('S', 0.5), ('S', 0.51), ('S', 0.51), ('S', 0.5), ('S', 0.52), ('S', 0.5), ('S', 0.52), ('S', 0.53), ('S', 0.51), ('S', 0.54), ('S', 0.49), ('S', 0.51), ('S', 0.52), ('S', 0.5), ('S', 0.51), ('S', 0.52), ('S', 0.51), ('S', 0.5), ('S', 0.52), ('S', 0.52), ('S', 0.49), ('S', 0.5), ('S', 0.5), ('S', 0.5), ('S', 0.52), ('S', 0.49), ('S', 0.5), ('S', 0.5), ('S', 0.54), ('S', 0.49), ('S', 0.45), ('S', 0.39), ('S', 0.49), ('S', 0.5), ('S', 0.49), ('S', 0.5), ('S', 0.52), ('S', 0.5), ('S', 0.5), ('S', 0.51), ('S', 0.51), ('S', 0.5), ('S', 0.51), ('S', 0.51), ('S', 0.5), ('S', 0.5), ('S', 0.5), ('S', 0.5), ('S', 0.5), ('S', 0.52), ('S', 0.5), ('S', 0.52), ('S', 0.52), ('S', 0.5), ('S', 0.51), ('S', 0.51), ('S', 0.49), ('S', 0.52), ('S', 0.5), ('S', 0.5), ('S', 0.51), ('S', 0.5), ('S', 0.51), ('S', 0.5), ('S', 0.51), ('S', 0.5), ('S', 0.5), ('S', 0.5), ('S', 0.51), ('S', 0.51), ('S', 0.51), ('S', 0.51), ('S', 0.5), ('S', 0.52), ('S', 0.51), ('S', 0.5), ('S', 0.5), ('S', 0.49), ('S', 0.52), ('S', 0.52), ('S', 0.51), ('S', 0.52), ('S', 0.5), ('S', 0.5), ('S', 0.5), ('S', 0.5), ('S', 0.43), ('S', 0.5), ('S', 0.5), ('S', 0.5), ('S', 0.5), ('S', 0.49), ('S', 0.39), ('S', 0.54), ('S', 0.5), ('S', 0.49), ('S', 0.51), ('S', 0.51), ('S', 0.39), ('S', 0.5), ('S', 0.5), ('S', 0.49), ('S', 0.49), ('S', 0.54), ('S', 0.5), ('S', 0.5), ('S', 0.49), ('S', 0.49), ('S', 0.4), ('S', 0.5), ('S', 0.46), ('S', 0.5), ('S', 0.4), ('S', 0.54), ('S', 0.53), ('S', 0.51), ('S', 0.46), ('S', 0.39), ('S', 0.49), ('S', 0.5), ('S', 0.52), ('S', 0.49), ('S', 0.52), ('S', 0.47), ('S', 0.49), ('S', 0.5), ('S', 0.51), ('S', 0.5), ('S', 0.5), ('S', 0.5), ('S', 0.5), ('S', 0.5), ('S', 0.51), ('S', 0.5), ('S', 0.54), ('S', 0.5), ('S', 0.51), ('S', 0.52), ('S', 0.43), ('S', 0.5), ('S', 0.5), ('S', 0.54), ('S', 0.5), ('S', 0.52), ('S', 0.5), ('S', 0.5), ('S', 0.5), ('S', 0.52), ('S', 0.5), ('S', 0.5), ('S', 0.5), ('S', 0.4), ('S', 0.54), ('S', 0.53), ('S', 0.5), ('S', 0.48), ('S', 0.5), ('S', 0.51), ('S', 0.51), ('S', 0.49), ('S', 0.5), ('S', 0.5), ('S', 0.5), ('S', 0.39), ('S', 0.48), ('S', 0.5), ('S', 0.5), ('S', 0.5), ('S', 0.49), ('S', 0.56), ('S', 0.53), ('S', 0.5), ('S', 0.5), ('S', 0.49), ('S', 0.54), ('S', 0.49), ('S', 0.51), ('S', 0.5), ('S', 0.5), ('S', 0.49), ('S', 0.5), ('S', 0.51), ('S', 0.52), ('S', 0.5), ('S', 0.5), ('S', 0.49), ('S', 0.51), ('S', 0.51), ('S', 0.49), ('S', 0.5), ('S', 0.51), ('S', 0.5), ('S', 0.43), ('S', 0.49), ('S', 0.51), ('S', 0.39), ('S', 0.49), ('S', 0.51), ('S', 0.51), ('S', 0.47), ('S', 0.5), ('S', 0.45), ('S', 0.4), ('S', 0.5), ('S', 0.51), ('S', 0.51), ('S', 0.49), ('S', 0.51), ('S', 0.5), ('S', 0.54), ('S', 0.54), ('S', 0.51), ('S', 0.51), ('S', 0.51), ('S', 0.49), ('S', 0.5), ('S', 0.52), ('S', 0.51), ('S', 0.49), ('S', 0.5), ('S', 0.51), ('S', 0.5), ('S', 0.5), ('S', 0.5), ('S', 0.56), ('S', 0.52), ('S', 0.52), ('S', 0.5), ('S', 0.51), ('S', 0.49), ('S', 0.53), ('S', 0.4), ('S', 0.49), ('S', 0.5), ('S', 0.51), ('S', 0.53), ('S', 0.51), ('S', 0.48), ('S', 0.5), ('S', 0.47), ('S', 0.49), ('S', 0.5), ('S', 0.51), ('S', 0.51), ('S', 0.48), ('S', 0.53), ('S', 0.49), ('S', 0.56), ('S', 0.49), ('S', 0.4), ('S', 0.5), ('S', 0.51), ('S', 0.5), ('S', 0.51), ('S', 0.51), ('S', 0.51), ('S', 0.5), ('S', 0.49), ('S', 0.48), ('S', 0.54), ('S', 0.45), ('S', 0.51), ('S', 0.5), ('S', 0.49), ('S', 0.5), ('S', 0.46), ('S', 0.5), ('S', 0.54), ('S', 0.54), ('S', 0.5), ('S', 0.5), ('S', 0.52), ('S', 0.51), ('S', 0.5), ('S', 0.49), ('S', 0.5), ('S', 0.51), ('S', 0.54), ('S', 0.49), ('S', 0.54), ('S', 0.52), ('S', 0.51), ('S', 0.51), ('S', 0.54), ('S', 0.5), ('S', 0.5), ('S', 0.53), ('S', 0.54), ('S', 0.5), ('S', 0.49), ('S', 0.39), ('S', 0.53), ('S', 0.49), ('S', 0.4), ('S', 0.51), ('S', 0.49), ('S', 0.54), ('S', 0.46), ('S', 0.5), ('S', 0.49), ('S', 0.5), ('S', 0.51), ('S', 0.5), ('S', 0.52), ('S', 0.5), ('S', 0.51), ('S', 0.51), ('S', 0.5), ('S', 0.5), ('S', 0.52), ('S', 0.52), ('S', 0.5), ('S', 0.51), ('S', 0.5), ('S', 0.5), ('S', 0.51), ('S', 0.5), ('S', 0.5), ('S', 0.5), ('S', 0.51), ('S', 0.51), ('S', 0.5), ('S', 0.51), ('S', 0.54), ('S', 0.51), ('S', 0.51), ('S', 0.5), ('S', 0.5), ('S', 0.51), ('S', 0.5), ('S', 0.49), ('S', 0.48), ('S', 0.51), ('S', 0.51), ('S', 0.54), ('S', 0.52), ('S', 0.51), ('S', 0.51), ('S', 0.5), ('S', 0.51), ('S', 0.5), ('S', 0.51), ('S', 0.54), ('S', 0.51), ('S', 0.5), ('S', 0.51), ('S', 0.52), ('S', 0.51), ('S', 0.52), ('S', 0.51), ('S', 0.48), ('S', 0.5), ('S', 0.51), ('S', 0.51), ('S', 0.53), ('S', 0.39), ('S', 0.5), ('S', 0.5), ('S', 0.5), ('S', 0.49), ('S', 0.4), ('S', 0.5), ('S', 0.5), ('S', 0.5), ('S', 0.5), ('S', 0.5), ('S', 0.54), ('S', 0.51), ('S', 0.45), ('S', 0.5), ('S', 0.51), ('S', 0.5), ('S', 0.5), ('S', 0.52), ('S', 0.51), ('S', 0.5), ('S', 0.54), ('S', 0.5), ('S', 0.51), ('S', 0.5), ('S', 0.51), ('S', 0.52), ('S', 0.52), ('S', 0.46), ('S', 0.5), ('S', 0.48), ('S', 0.5), ('S', 0.39), ('S', 0.49), ('S', 0.5), ('S', 0.5), ('S', 0.5), ('S', 0.5), ('S', 0.39), ('S', 0.49), ('S', 0.5), ('S', 0.5), ('S', 0.5), ('S', 0.49), ('S', 0.5), ('S', 0.5), ('S', 0.5), ('S', 0.5), ('S', 0.51), ('S', 0.51), ('S', 0.52), ('S', 0.5), ('S', 0.5), ('S', 0.51), ('S', 0.43), ('S', 0.5), ('S', 0.46), ('S', 0.49), ('S', 0.4), ('S', 0.5), ('S', 0.49), ('S', 0.49), ('S', 0.5), ('S', 0.5), ('S', 0.5), ('S', 0.52), ('S', 0.5), ('S', 0.5), ('S', 0.5), ('S', 0.51), ('S', 0.49), ('S', 0.49), ('S', 0.51), ('S', 0.5)]\n",
            "\n",
            "Confusion Matrix:\n",
            "\n",
            "Predicted Values    0    1\n",
            "Actual Values             \n",
            "0                 231   25\n",
            "1                 117  139\n",
            "Features and their importance:\n",
            "\n"
          ]
        },
        {
          "name": "stdout",
          "output_type": "stream",
          "text": [
            "AxesSubplot(0.125,0.125;0.775x0.755)\n"
          ]
        },
        {
          "data": {
            "image/png": "[encoded data removed]",
            "text/plain": [
              "<matplotlib.figure.Figure at 0x1a192dc2e8>"
            ]
          },
          "metadata": {},
          "output_type": "display_data"
        }
      ],
      "source": [
        "rfscore_3(df_subred,'binary',5)"
      ]
    },
    {
      "cell_type": "markdown",
      "metadata": {
        "id": "2sut8WoCqnRD"
      },
      "source": [
        "### Comments:\n",
        "\n",
        "- The mean accuracy score improved substatially now.\n",
        "- The main features continue to be `pics`, and `gaming`"
      ]
    },
    {
      "cell_type": "markdown",
      "metadata": {
        "id": "jf4xZiQ3qnRD"
      },
      "source": [
        "### We can compute the `cross_val_score` corresponding to the best model from the cell above:"
      ]
    },
    {
      "cell_type": "code",
      "execution_count": null,
      "metadata": {
        "id": "lCbKhH6tqnRD"
      },
      "outputs": [],
      "source": [
        "def cv_score(df,target_col,cv,n_estimators,min_samples_split,max_depth):\n",
        "    X = df.drop(target_col,axis=1)\n",
        "    y = df[target_col]\n",
        "    rf = RandomForestClassifier(n_estimators=n_estimators_best,min_samples_split=min_samples_split_best,\n",
        "                                max_depth=max_depth_best)\n",
        "    s = cross_val_score(rf, X, y, cv=cv, n_jobs=-1)\n",
        "    return(\"{} Score is :{:0.3} ± {:0.3}\".format(\"Random Forest\", s.mean().round(3), s.std().round(3)))"
      ]
    },
    {
      "cell_type": "code",
      "execution_count": null,
      "metadata": {
        "id": "B6qbyASAqnRD",
        "outputId": "9fb8603f-2015-4f94-d0d6-5292c7161274"
      },
      "outputs": [
        {
          "data": {
            "text/plain": [
              "'Random Forest Score is :0.588 ± 0.023'"
            ]
          },
          "execution_count": 126,
          "metadata": {},
          "output_type": "execute_result"
        }
      ],
      "source": [
        "dict_best = {'max_depth': 4, 'min_samples_split': 8, 'n_estimators': 180}\n",
        "n_estimators_best = dict_best['n_estimators']\n",
        "min_samples_split_best = dict_best['min_samples_split']\n",
        "max_depth_best = dict_best['max_depth']\n",
        "cv_score(df_subred,'binary',5,n_estimators_best,min_samples_split_best,max_depth_best)"
      ]
    },
    {
      "cell_type": "markdown",
      "metadata": {
        "id": "rrP_BeQnqnRD"
      },
      "source": [
        "## 7)  Model Building IV: Including thread features\n",
        "\n",
        "I will now use CountVectorizer to create features based on the words in the thread titles. We will then combine this new table with the subreddits features table and build a new model."
      ]
    },
    {
      "cell_type": "markdown",
      "metadata": {
        "id": "0C0-ZxEYqnRD"
      },
      "source": [
        "### We first need to preprocess the text:\n",
        "\n",
        "- We take out stopwords (common words, adding no meaning such as for example, \"I\", \"am\")\n",
        "- Take out punctuation and spaces\n",
        "- Converts text to lower case\n",
        "- Use stemming (e.g. it converts the words scientific, scientist, science into scien).\n",
        "\n",
        "The function below does that [1]. A few words regarding this function are in order:\n",
        "- Using `PorterStemmer()` we groups words with same stems\n",
        "- Using `stopwords.words('english')` we exclude stop words (in English) such as:\n",
        "\n",
        "        ['i', 'me', 'my', 'myself', 'we',...]\n",
        "    \n",
        "- `maketrans()` creates a mapping table. We may create an empty mapping table, and then set the third argument of this function to all characters we want to remove during the translation process. For example:\n",
        "        \n",
        "        str.maketrans('', '', string.punctuation)\n",
        "        str.maketrans('', '', string.digits)\n",
        "\n",
        "- The function `translate()` maps a set of characters into another.\n",
        "- Using `text.lower().strip()` we removes spaces\n",
        "\n",
        "Some simple examples:"
      ]
    },
    {
      "cell_type": "code",
      "execution_count": null,
      "metadata": {
        "id": "_TvWUEijqnRE",
        "outputId": "1745b24a-7865-4a68-dc63-95efc7e347bd"
      },
      "outputs": [
        {
          "data": {
            "text/plain": [
              "['o', 'n', 'e', '', 't', 'w', 'o', '', '', 'a', 'n', 'd', '', '']"
            ]
          },
          "execution_count": 197,
          "metadata": {},
          "output_type": "execute_result"
        }
      ],
      "source": [
        "import string\n",
        "words_1 = 'One,TWO,1and 3'\n",
        "w = [w.translate(str.maketrans(\n",
        "    '','',string.digits)).translate(\n",
        "    str.maketrans('','',\n",
        "                  string.punctuation)).lower().strip() \\\n",
        "     for w in words_1]\n",
        "w"
      ]
    },
    {
      "cell_type": "markdown",
      "metadata": {
        "id": "SM7rHXwwqnRE"
      },
      "source": [
        "### The function we will use is given by:"
      ]
    },
    {
      "cell_type": "code",
      "execution_count": null,
      "metadata": {
        "id": "EFcH4e2TqnRE"
      },
      "outputs": [],
      "source": [
        "import string\n",
        "\n",
        "def cleaner(text):\n",
        "    stemmer = PorterStemmer()\n",
        "    stop = stopwords.words('english')\n",
        "    text = text.translate(str.maketrans('', '', string.punctuation))\n",
        "    text = text.translate(str.maketrans('', '', string.digits))\n",
        "    text = text.lower().strip()\n",
        "    final_text = []\n",
        "    for w in text.split():\n",
        "        if w not in stop:\n",
        "            final_text.append(stemmer.stem(w.strip()))\n",
        "    return ' '.join(final_text)"
      ]
    },
    {
      "cell_type": "markdown",
      "metadata": {
        "id": "f1CjJ5muqnRE"
      },
      "source": [
        "Recalling `df`:"
      ]
    },
    {
      "cell_type": "code",
      "execution_count": null,
      "metadata": {
        "id": "IcxqgeN1qnRE",
        "outputId": "b99266c8-6a54-40b2-c5a5-d3ad466ac3bf"
      },
      "outputs": [
        {
          "data": {
            "text/html": [
              "<div>\n",
              "<style scoped>\n",
              "    .dataframe tbody tr th:only-of-type {\n",
              "        vertical-align: middle;\n",
              "    }\n",
              "\n",
              "    .dataframe tbody tr th {\n",
              "        vertical-align: top;\n",
              "    }\n",
              "\n",
              "    .dataframe thead th {\n",
              "        text-align: right;\n",
              "    }\n",
              "</style>\n",
              "<table border=\"1\" class=\"dataframe\">\n",
              "  <thead>\n",
              "    <tr style=\"text-align: right;\">\n",
              "      <th></th>\n",
              "      <th>titles</th>\n",
              "      <th>times</th>\n",
              "      <th>subreddits</th>\n",
              "      <th>nums</th>\n",
              "      <th>binary</th>\n",
              "    </tr>\n",
              "  </thead>\n",
              "  <tbody>\n",
              "    <tr>\n",
              "      <th>178</th>\n",
              "      <td>rainy afternoon</td>\n",
              "      <td>11</td>\n",
              "      <td>raining</td>\n",
              "      <td>10</td>\n",
              "      <td>0</td>\n",
              "    </tr>\n",
              "    <tr>\n",
              "      <th>180</th>\n",
              "      <td>Well this tweet took a wild turn</td>\n",
              "      <td>19</td>\n",
              "      <td>trashy</td>\n",
              "      <td>1242</td>\n",
              "      <td>1</td>\n",
              "    </tr>\n",
              "    <tr>\n",
              "      <th>181</th>\n",
              "      <td>Sweet ki..........nvm!</td>\n",
              "      <td>3</td>\n",
              "      <td>yesyesyesyesno</td>\n",
              "      <td>5</td>\n",
              "      <td>0</td>\n",
              "    </tr>\n",
              "    <tr>\n",
              "      <th>187</th>\n",
              "      <td>Two drunk gentlemen try to pass each other</td>\n",
              "      <td>17</td>\n",
              "      <td>StoppedWorking</td>\n",
              "      <td>102</td>\n",
              "      <td>1</td>\n",
              "    </tr>\n",
              "    <tr>\n",
              "      <th>192</th>\n",
              "      <td>Minute of silence</td>\n",
              "      <td>4</td>\n",
              "      <td>gwent</td>\n",
              "      <td>45</td>\n",
              "      <td>0</td>\n",
              "    </tr>\n",
              "  </tbody>\n",
              "</table>\n",
              "</div>"
            ],
            "text/plain": [
              "                                         titles  times      subreddits  nums  \\\n",
              "178                             rainy afternoon     11         raining    10   \n",
              "180            Well this tweet took a wild turn     19          trashy  1242   \n",
              "181                      Sweet ki..........nvm!      3  yesyesyesyesno     5   \n",
              "187  Two drunk gentlemen try to pass each other     17  StoppedWorking   102   \n",
              "192                           Minute of silence      4           gwent    45   \n",
              "\n",
              "     binary  \n",
              "178       0  \n",
              "180       1  \n",
              "181       0  \n",
              "187       1  \n",
              "192       0  "
            ]
          },
          "execution_count": 208,
          "metadata": {},
          "output_type": "execute_result"
        }
      ],
      "source": [
        "df = pd.read_csv('df_with_binary_1.csv',index_col=0)\n",
        "df.head()"
      ]
    },
    {
      "cell_type": "markdown",
      "metadata": {
        "id": "7WC8Izd8qnRE"
      },
      "source": [
        "### Let us consider only words that occured min_df times or more:"
      ]
    },
    {
      "cell_type": "code",
      "execution_count": null,
      "metadata": {
        "id": "zY9Y41b_qnRE",
        "outputId": "a8ce29ae-6c56-4ead-82cd-c06f7a65469c"
      },
      "outputs": [
        {
          "data": {
            "text/plain": [
              "CountVectorizer(analyzer='word', binary=False, decode_error='strict',\n",
              "        dtype=<class 'numpy.int64'>, encoding='utf-8', input='content',\n",
              "        lowercase=True, max_df=1.0, max_features=None, min_df=1,\n",
              "        ngram_range=(1, 1),\n",
              "        preprocessor=<function cleaner at 0x1a193ee1e0>, stop_words=None,\n",
              "        strip_accents=None, token_pattern='(?u)\\\\b\\\\w\\\\w+\\\\b',\n",
              "        tokenizer=None, vocabulary=None)"
            ]
          },
          "execution_count": 329,
          "metadata": {},
          "output_type": "execute_result"
        },
        {
          "name": "stdout",
          "output_type": "stream",
          "text": [
            "Words that showed up at least 1 times:\n",
            "\n",
            "['abandon', 'abgeb', 'abomin', 'absolut', 'absolutelynotmeirl', 'accept', 'accident', 'accord', 'account', 'accus', 'across', 'acryl', 'act', 'actual', 'ad', 'adapt', 'addit', 'administration', 'admit', 'adolf', 'adopt', 'aeiou', 'af', 'afghanistan', 'africa', 'afternoon', 'age', 'agenda', 'agent', 'aglet', 'ago', 'air', 'aja', 'alberta', 'album', 'alex', 'aliv', 'alleg', 'alon', 'alp', 'alreadi', 'alright', 'also', 'altright', 'alway', 'ama', 'amaz', 'amnesti', 'among', 'amount', 'ampat', 'android', 'anim', 'animaux', 'ankl', 'anon', 'anoth', 'antivenom', 'anyon', 'anyth', 'apart', 'app', 'appar', 'appear', 'appl', 'appreci', 'approach', 'april', 'aquaria', 'aquarium', 'archer', 'architectur', 'arena', 'arent', 'arithmet', 'arm', 'around', 'artwork', 'ashley', 'ask', 'ass', 'assassin', 'assault', 'assaultstyl', 'asylum', 'atheist', 'attack', 'attempt', 'aunt', 'austin', 'australia', 'australian', 'autobiographi', 'autour', 'av', 'avatar', 'aveng', 'avoid', 'away', 'awhil', 'aww', 'baadddd', 'babi', 'babysitt', 'back', 'bacon', 'bacteria', 'bad', 'bag', 'ball', 'ban', 'band', 'banff', 'bank', 'bar', 'barackobama', 'barcelona', 'base', 'basic', 'bath', 'battl', 'battlefeel', 'battleground', 'bavarian', 'baymax', 'beach', 'beam', 'beard', 'beast', 'beat', 'beauti', 'beaver', 'becom', 'bed', 'beer', 'befriend', 'beg', 'behaviour', 'behind', 'believ', 'bell', 'belong', 'ben', 'bend', 'best', 'bet', 'better', 'beyonc', 'big', 'bigger', 'bill', 'billion', 'billionair', 'bimbo', 'binari', 'birth', 'birthday', 'black', 'blep', 'blew', 'blow', 'blue', 'boat', 'bodega', 'bodi', 'boi', 'bold', 'bone', 'book', 'born', 'boss', 'bot', 'bottl', 'bow', 'bowl', 'boy', 'boycott', 'boyfriend', 'brad', 'brain', 'brand', 'brat', 'brawl', 'brazil', 'bread', 'breadstick', 'breed', 'brick', 'brilliant', 'bring', 'britain', 'british', 'briton', 'broken', 'brooklyn', 'brother', 'brought', 'brows', 'brutal', 'bu', 'bubbl', 'bucket', 'bucki', 'buddi', 'bug', 'bulli', 'bun', 'burger', 'burn', 'busi', 'bust', 'butterfli', 'buy', 'ca', 'cabl', 'cafe', 'caiman', 'cake', 'calcul', 'california', 'call', 'calm', 'calori', 'came', 'camera', 'cameraman', 'campaign', 'campsit', 'can', 'canada', 'cancer', 'cant', 'canvass', 'canyon', 'cappi', 'captur', 'car', 'cardiac', 'care', 'career', 'caretak', 'carol', 'carolina', 'carri', 'carv', 'cat', 'catapult', 'catch', 'caught', 'caus', 'cave', 'celebr', 'censor', 'censorship', 'center', 'centralia', 'centuri', 'ceo', 'chair', 'challeng', 'chamber', 'chancellor', 'chang', 'channel', 'charact', 'charg', 'chase', 'cheap', 'check', 'checkmat', 'cheer', 'cheesi', 'chemo', 'chi', 'chicken', 'chief', 'childhood', 'children', 'chill', 'chime', 'china', 'chine', 'chocol', 'christian', 'church', 'circul', 'citi', 'clash', 'class', 'clay', 'clean', 'cleveland', 'climat', 'climb', 'close', 'cloth', 'clubhous', 'coach', 'coal', 'coastal', 'code', 'coffe', 'coliseum', 'collag', 'collect', 'collector', 'colleg', 'collegeeduc', 'color', 'colorblind', 'colosseum', 'combin', 'come', 'command', 'comment', 'commun', 'commut', 'compani', 'companion', 'comparison', 'complet', 'concept', 'concern', 'condit', 'confer', 'confid', 'confirm', 'confus', 'congress', 'connect', 'consequ', 'contest', 'continu', 'control', 'convert', 'cool', 'cop', 'cope', 'core', 'could', 'count', 'countless', 'countri', 'coupl', 'courag', 'cousin', 'cove', 'cozi', 'cracker', 'crash', 'crayola', 'crazi', 'credit', 'creed', 'creepi', 'crew', 'cri', 'cring', 'critic', 'crocodil', 'crusti', 'cryptocurr', 'cuck', 'cultur', 'cupcak', 'current', 'curri', 'custodi', 'custom', 'cut', 'cutter', 'cw', 'cycl', 'da', 'dad', 'dalton', 'damn', 'danc', 'dandrew', 'danger', 'dark', 'daughter', 'dave', 'day', 'de', 'dea', 'deagl', 'dealership', 'dear', 'death', 'debat', 'debut', 'decemb', 'decid', 'decis', 'deck', 'decomiss', 'decri', 'deep', 'defenc', 'deflect', 'delici', 'democrat', 'dermagraph', 'deserv', 'design', 'desir', 'desk', 'desktop', 'destroy', 'develop', 'devis', 'dicaprio', 'dick', 'didnt', 'die', 'diet', 'digit', 'directli', 'director', 'disagre', 'disappear', 'discord', 'discov', 'discuss', 'disgust', 'distast', 'dive', 'diver', 'do', 'dodger', 'doesnt', 'dog', 'dogcuzzi', 'doggo', 'domest', 'donald', 'done', 'donkey', 'dont', 'door', 'dorwel', 'dot', 'downtown', 'downvot', 'dozen', 'dpd', 'dr', 'drag', 'dragon', 'drama', 'drank', 'draw', 'dream', 'dress', 'drink', 'drive', 'drone', 'drop', 'drug', 'drummer', 'drunk', 'dude', 'due', 'dump', 'duti', 'eagl', 'ear', 'earli', 'earth', 'earthli', 'easi', 'east', 'eat', 'eaten', 'economi', 'edg', 'ef', 'effici', 'effort', 'egg', 'einstein', 'electr', 'elev', 'eleven', 'eli', 'elimin', 'els', 'emerald', 'emot', 'emperor', 'employe', 'enforc', 'engin', 'english', 'enjoy', 'enough', 'enter', 'entir', 'epa', 'ephraim', 'epic', 'episod', 'equal', 'eric', 'erzgebirg', 'escal', 'escola', 'et', 'euthanis', 'evan', 'even', 'event', 'ever', 'everi', 'everyon', 'everything', 'evolut', 'ex', 'exactli', 'excus', 'exercis', 'exist', 'expect', 'expens', 'experienc', 'explain', 'express', 'extend', 'eye', 'fabul', 'face', 'facebook', 'facharbeit', 'facial', 'fail', 'fairi', 'fake', 'famili', 'fan', 'fanart', 'far', 'farm', 'farmer', 'fart', 'fascist', 'fasten', 'father', 'faulti', 'favorit', 'favourit', 'fbi', 'februari', 'feedback', 'feel', 'feelsgoodman', 'feet', 'feetsi', 'feliciano', 'fell', 'fellow', 'femal', 'femin', 'fenc', 'ferm', 'ferri', 'fidget', 'field', 'fieri', 'fight', 'figur', 'fill', 'film', 'filthi', 'final', 'find', 'fine', 'finger', 'finish', 'finn', 'fire', 'firework', 'first', 'fish', 'flat', 'flew', 'flood', 'floof', 'floor', 'floyd', 'fogl', 'foi', 'follow', 'food', 'foot', 'footag', 'forbidden', 'forc', 'forest', 'forev', 'forlorn', 'form', 'former', 'fortnit', 'fortun', 'fought', 'found', 'four', 'fox', 'fragt', 'franklin', 'fre', 'free', 'fresh', 'fri', 'friend', 'front', 'frugal', 'fuck', 'fun', 'fur', 'furryirl', 'fursona', 'futur', 'fxx', 'fössta', 'ga', 'gain', 'game', 'gangtok', 'gap', 'garden', 'gari', 'gateway', 'gave', 'gay', 'gear', 'gem', 'gener', 'gentlemen', 'georg', 'germani', 'get', 'giant', 'gift', 'gina', 'girl', 'girlfriend', 'give', 'glass', 'glitch', 'glo', 'glömt', 'gm', 'go', 'goal', 'goalkeep', 'god', 'goe', 'good', 'googl', 'got', 'goteem', 'gotta', 'govern', 'grandfath', 'grandma', 'grandmoth', 'grandpar', 'grant', 'graviti', 'greasi', 'great', 'greatest', 'green', 'grenad', 'grey', 'grip', 'groov', 'group', 'grow', 'grown', 'gtr', 'guard', 'gud', 'guess', 'guest', 'guitar', 'gun', 'guy', 'gym', 'hack', 'hair', 'haircut', 'half', 'halitreph', 'halloween', 'ham', 'hamil', 'hand', 'handshak', 'happen', 'happi', 'happiest', 'happili', 'harass', 'harbor', 'harden', 'harder', 'harri', 'hasn', 'hate', 'haul', 'haven', 'havent', 'hawaii', 'hbo', 'he', 'head', 'headlin', 'headset', 'healthi', 'hear', 'heard', 'heart', 'heat', 'heater', 'heck', 'height', 'hello', 'help', 'here', 'hey', 'hick', 'hideo', 'high', 'hill', 'hit', 'hitch', 'hitler', 'hmm', 'hmmm', 'hockey', 'hold', 'hole', 'hollywood', 'holocaust', 'home', 'homeless', 'homemad', 'hometown', 'hope', 'hospit', 'hot', 'hour', 'hous', 'housewarm', 'huge', 'human', 'hut', 'hxi', 'hydetweet', 'hype', 'hyperx', 'ice', 'ich', 'idea', 'if', 'ifragmentix', 'ignor', 'illeg', 'im', 'imag', 'imagin', 'impact', 'impati', 'implod', 'impuls', 'impusl', 'inappropri', 'incident', 'incis', 'includ', 'increas', 'incred', 'india', 'indonesia', 'infant', 'infin', 'influenc', 'infowar', 'inhuman', 'innoc', 'insan', 'insid', 'inspect', 'inspir', 'instead', 'interdit', 'interest', 'internet', 'interview', 'introduc', 'invad', 'invest', 'investig', 'iphon', 'iq', 'iran', 'irl', 'ironi', 'island', 'isnt', 'it', 'itapth', 'item', 'ive', 'jalapeño', 'jame', 'jan', 'januari', 'japanes', 'jare', 'jason', 'jealou', 'jelli', 'jellyfish', 'jesu', 'jew', 'jimmi', 'jinp', 'jj', 'joast', 'job', 'johnson', 'johnston', 'jone', 'joust', 'joy', 'jump', 'justifi', 'kangaroo', 'keep', 'ken', 'keto', 'key', 'kick', 'kid', 'kill', 'killer', 'kim', 'king', 'kingdom', 'kinvm', 'kitti', 'klansman', 'klay', 'knew', 'kno', 'knock', 'know', 'known', 'kojima', 'kong', 'korea', 'krab', 'köpa', 'la', 'lack', 'ladi', 'ladybug', 'laid', 'lake', 'laker', 'land', 'landscap', 'laps', 'larg', 'largest', 'laser', 'last', 'late', 'latest', 'latrosisith', 'lazi', 'le', 'lead', 'leaf', 'leagu', 'learn', 'least', 'leav', 'lectur', 'left', 'leg', 'lego', 'lehrer', 'leichtenstein', 'leo', 'less', 'let', 'lethal', 'letter', 'liber', 'librari', 'life', 'lifelik', 'light', 'lightn', 'like', 'line', 'linemen', 'link', 'lion', 'list', 'littl', 'live', 'lmaoo', 'load', 'local', 'locat', 'logan', 'logo', 'lol', 'long', 'longer', 'longest', 'longtim', 'look', 'loos', 'loot', 'lord', 'lose', 'lost', 'lot', 'loudest', 'loudli', 'loung', 'lous', 'love', 'lover', 'lower', 'luca', 'machin', 'mad', 'made', 'maggi', 'magic', 'magma', 'magnet', 'main', 'maintain', 'make', 'maker', 'man', 'manag', 'mane', 'mang', 'mani', 'mantalk', 'march', 'marijuana', 'mario', 'mark', 'marri', 'marriag', 'marvel', 'mask', 'masspres', 'maui', 'maximum', 'may', 'mayor', 'mcdonald', 'mcferryfac', 'mcfuck', 'me', 'meal', 'mean', 'meet', 'mein', 'meirl', 'meirlmeirl', 'meme', 'men', 'mention', 'merch', 'messag', 'meta', 'metal', 'method', 'midafternoon', 'middl', 'midterm', 'might', 'mike', 'mile', 'milit', 'militari', 'milk', 'milki', 'million', 'milwauke', 'mine', 'minecraft', 'ministri', 'minnesota', 'minut', 'misconcept', 'miss', 'mod', 'model', 'mom', 'moment', 'momma', 'money', 'month', 'moon', 'morbidli', 'morn', 'moscow', 'mostli', 'mother', 'motif', 'motor', 'mount', 'mountain', 'mouth', 'movi', 'mph', 'mr', 'mrw', 'much', 'multipl', 'murder', 'music', 'musician', 'must', 'mycours', 'mysteri', 'nab', 'name', 'nasa', 'nation', 'natur', 'nearli', 'neatli', 'neckbeardi', 'ned', 'need', 'neg', 'neighborhood', 'neonazi', 'nest', 'net', 'neutral', 'never', 'new', 'newest', 'news', 'next', 'nfl', 'nh', 'ninenin', 'ninja', 'no', 'nobushi', 'nope', 'nordic', 'north', 'northern', 'notch', 'note', 'notsobrief', 'novacan', 'nra', 'nuclear', 'number', 'när', 'obama', 'obes', 'obvious', 'oc', 'ocean', 'octopu', 'ocx', 'odyssey', 'offens', 'offic', 'offici', 'often', 'og', 'oh', 'oil', 'old', 'oldest', 'oliv', 'olymp', 'one', 'onion', 'onli', 'oop', 'oper', 'oppon', 'opportun', 'optic', 'orang', 'order', 'oregon', 'orient', 'orwel', 'osaka', 'outplay', 'overtim', 'overwhelm', 'owner', 'oxid', 'pa', 'pace', 'paid', 'pain', 'paint', 'pant', 'panther', 'paper', 'parent', 'park', 'parkland', 'part', 'parti', 'partly', 'pass', 'past', 'pastel', 'pattern', 'peac', 'peak', 'pedal', 'pen', 'penguinz', 'penni', 'peopl', 'perfect', 'perman', 'person', 'pet', 'pewdiepi', 'phone', 'photo', 'pi', 'pic', 'pick', 'pictur', 'piec', 'pierc', 'pigment', 'pilot', 'pink', 'pirat', 'piss', 'pitch', 'pitt', 'pizza', 'place', 'play', 'player', 'playerscoachestrain', 'pleas', 'pm', 'poem', 'point', 'poke', 'polic', 'pool', 'poop', 'pop', 'popcorn', 'popper', 'portfolio', 'possess', 'post', 'poster', 'pot', 'potenti', 'poverti', 'power', 'ppl', 'practic', 'praetorian', 'prank', 'premier', 'prep', 'prequel', 'present', 'presid', 'press', 'pretestosteron', 'pretti', 'pretzel', 'price', 'princess', 'prison', 'probabl', 'process', 'produc', 'product', 'progun', 'protest', 'proud', 'psbattl', 'pubg', 'publish', 'puerto', 'pull', 'punch', 'pup', 'pupper', 'puppi', 'purchas', 'pure', 'purest', 'purpl', 'purpos', 'push', 'put', 'qual', 'qualifi', 'quarter', 'queen', 'quest', 'question', 'queu', 'quick', 'quietli', 'quot', 'rachel', 'raini', 'rais', 'raja', 'rake', 'rall', 'rand', 'raptor', 'raspberri', 'rcatprank', 'rd', 'reach', 'reaction', 'read', 'real', 'realilti', 'realiz', 'realli', 'reallif', 'rear', 'reason', 'receiv', 'recent', 'recept', 'recherch', 'recurs', 'red', 'reddit', 'redditor', 'reded', 'redneck', 'redondo', 'ref', 'regiment', 'rel', 'relat', 'relay', 'releas', 'religi', 'rememb', 'remov', 'rep', 'repair', 'repli', 'report', 'repost', 'republican', 'request', 'requir', 'reseach', 'research', 'resembl', 'resid', 'resign', 'resolut', 'restor', 'restrict', 'retir', 'retreat', 'reurop', 'review', 'reviv', 'rf', 'rgif', 'rico', 'ride', 'rider', 'rifl', 'right', 'riker', 'risk', 'rlatinopeopletwitt', 'rmalelivingspac', 'road', 'robert', 'rochest', 'rock', 'rocket', 'rodriguez', 'roger', 'roll', 'roller', 'roman', 'rome', 'ronni', 'room', 'rose', 'rover', 'royalti', 'rt', 'rthedonald', 'ruin', 'run', 'russiag', 'russian', 'rworldnew', 'réseau', 'sad', 'safe', 'safeti', 'said', 'salad', 'salti', 'sanchez', 'sasr', 'sat', 'save', 'saw', 'say', 'sayori', 'scam', 'scari', 'scenario', 'scene', 'sceneri', 'school', 'scienc', 'scientif', 'scob', 'scoreboard', 'screenshot', 'scroll', 'scrub', 'se', 'sea', 'seal', 'season', 'seat', 'sebastian', 'second', 'secret', 'seem', 'seen', 'seiz', 'sell', 'semest', 'semi', 'senat', 'send', 'sens', 'sent', 'separ', 'seri', 'serv', 'server', 'servic', 'session', 'set', 'setter', 'sew', 'sewer', 'sex', 'sexual', 'shake', 'shakespearean', 'share', 'shatter', 'shave', 'she', 'shed', 'shelter', 'shini', 'shinkansen', 'ship', 'shoot', 'short', 'shot', 'show', 'shown', 'showwithinashow', 'shrink', 'shut', 'sick', 'side', 'sidewalk', 'sign', 'silenc', 'sinc', 'singular', 'sink', 'sir', 'sister', 'six', 'size', 'skeleton', 'skeptic', 'sketch', 'skull', 'sleep', 'slow', 'slowli', 'small', 'smallest', 'smh', 'smile', 'snack', 'snek', 'snow', 'soccer', 'social', 'sold', 'soldier', 'solv', 'somebodi', 'someon', 'someth', 'sometim', 'son', 'soon', 'soooooo', 'sound', 'sourc', 'south', 'southern', 'space', 'spacex', 'spaghetti', 'spagoot', 'spainth', 'spam', 'speci', 'special', 'speech', 'speed', 'spend', 'spent', 'spici', 'spinner', 'spoil', 'sponsor', 'spooki', 'spot', 'spread', 'squirl', 'staff', 'stafford', 'stair', 'stan', 'stanc', 'stand', 'standards', 'stapleless', 'stapler', 'star', 'stare', 'start', 'starterpack', 'startup', 'state', 'station', 'stationoc', 'statu', 'stave', 'stay', 'steam', 'steel', 'step', 'steph', 'stephen', 'stick', 'still', 'stoke', 'stone', 'stop', 'storm', 'strang', 'stranger', 'strangl', 'stranz', 'straw', 'streak', 'street', 'strike', 'stuck', 'student', 'studi', 'stuf', 'stuff', 'stumbl', 'sua', 'suav', 'sub', 'subreddit', 'subscrib', 'substanti', 'subtitl', 'subway', 'success', 'suggest', 'summari', 'summer', 'sunday', 'sunris', 'super', 'superblood', 'supermass', 'supermodel', 'support', 'supremacist', 'sur', 'sure', 'surfac', 'surgeon', 'surgeri', 'surgicaldust', 'surpass', 'surreal', 'surrend', 'surveil', 'surviv', 'survivor', 'sweet', 'switch', 'sworn', 'syndrom', 'system', 'tabl', 'taboo', 'taika', 'take', 'talent', 'taliban', 'talk', 'tank', 'taquito', 'tarantino', 'tardigrad', 'td', 'tea', 'teach', 'teacher', 'team', 'teamth', 'tear', 'tech', 'technic', 'teeth', 'tehran', 'tell', 'temperatur', 'tesla', 'test', 'testifi', 'texa', 'text', 'th', 'thank', 'that', 'the', 'theatric', 'theori', 'therapi', 'there', 'thermal', 'theyr', 'thing', 'think', 'third', 'this', 'thompson', 'thoroughli', 'thought', 'thousand', 'three', 'throne', 'throughout', 'throw', 'ti', 'tick', 'ticket', 'tie', 'tifu', 'tiki', 'til', 'tim', 'time', 'tinder', 'tinderl', 'tini', 'tiniest', 'tip', 'toast', 'today', 'told', 'toler', 'tonight', 'took', 'toomeirlformeirl', 'tooth', 'top', 'tossdan', 'tot', 'total', 'touch', 'tough', 'tower', 'toy', 'trade', 'train', 'transport', 'transpos', 'trashpanda', 'trashtalk', 'treat', 'treatment', 'trebuchet', 'tree', 'trend', 'tri', 'trial', 'trick', 'trickshot', 'trilog', 'trip', 'trixi', 'trooper', 'troubl', 'truck', 'true', 'trump', 'trumpet', 'trumpgret', 'trust', 'truth', 'tube', 'tuesday', 'turiaf', 'turn', 'turnout', 'turtl', 'twain', 'tweet', 'twice', 'twin', 'twitter', 'two', 'tx', 'ubisoft', 'udiezlk', 'uk', 'ultim', 'ulyss', 'umbrella', 'uncl', 'underachiev', 'underappreci', 'undercov', 'underground', 'understand', 'uniform', 'union', 'univers', 'unknowingli', 'unlimit', 'updat', 'upon', 'upper', 'upset', 'upsid', 'upvot', 'us', 'usa', 'use', 'user', 'uss', 'vaccin', 'valley', 'vancouv', 'vase', 'vegan', 'venom', 'vermicelli', 'version', 'vet', 'video', 'view', 'vintag', 'viral', 'virtual', 'viru', 'visit', 'visitor', 'voorhe', 'vote', 'voxelart', 'vr', 'vs', 'waist', 'wait', 'waititi', 'waitress', 'wake', 'walk', 'wall', 'wallet', 'walmart', 'walton', 'wann', 'want', 'war', 'warf', 'warmer', 'warrior', 'washington', 'washroom', 'wasp', 'watch', 'water', 'way', 'wcgw', 'wdywt', 'wear', 'weather', 'weatherman', 'websit', 'week', 'weibo', 'weight', 'weiney', 'welcom', 'well', 'wenn', 'went', 'werent', 'wesley', 'westworld', 'wet', 'what', 'wheat', 'wheelchair', 'whichev', 'whistl', 'white', 'who', 'whole', 'wholesom', 'whose', 'widow', 'wife', 'wild', 'win', 'windmil', 'wing', 'winkleboss', 'winner', 'winter', 'without', 'wolf', 'wonder', 'wont', 'wood', 'wooden', 'woof', 'words', 'wore', 'work', 'worker', 'world', 'worst', 'worth', 'would', 'wp', 'wrote', 'wwii', 'wymyn', 'währenddessen', 'xi', 'xpost', 'ya', 'yeah', 'year', 'yearlong', 'yearold', 'yearsold', 'yellow', 'yep', 'yisss', 'york', 'yosemit', 'you', 'young', 'your', 'yourself', 'ypg', 'zip', 'ክቿሠነ', 'ክቿዪሀዐሁነ', 'ጌዪቿልጕጎክኗ'] \n",
            "\n",
            "There are 1823 such words\n"
          ]
        }
      ],
      "source": [
        "min_df = 1 # Set to 1 to get more data points\n",
        "cvt = CountVectorizer(min_df=min_df, preprocessor=cleaner)\n",
        "cvt.fit(df[\"titles\"])\n",
        "print('Words that showed up at least {} times:\\n'.format(min_df))\n",
        "print(cvt.get_feature_names(),'\\n')\n",
        "print('There are {} such words'.format(len(cvt.get_feature_names())))"
      ]
    },
    {
      "cell_type": "markdown",
      "metadata": {
        "id": "zEIXESyJqnRE"
      },
      "source": [
        "Applying `cvt.transform` to a `Series` we obtain a sparse matrix:"
      ]
    },
    {
      "cell_type": "code",
      "execution_count": null,
      "metadata": {
        "id": "CV-17pDoqnRF",
        "outputId": "7b4b2e7c-6a09-4c87-90ea-c79c25445797"
      },
      "outputs": [
        {
          "name": "stdout",
          "output_type": "stream",
          "text": [
            "Matrix is:\n",
            "\n"
          ]
        },
        {
          "data": {
            "text/plain": [
              "matrix([[0, 0, 0, ..., 0, 0, 0],\n",
              "        [0, 0, 0, ..., 0, 0, 0],\n",
              "        [0, 0, 0, ..., 0, 0, 0],\n",
              "        ...,\n",
              "        [0, 0, 0, ..., 0, 0, 0],\n",
              "        [0, 0, 0, ..., 0, 0, 0],\n",
              "        [0, 0, 0, ..., 0, 0, 0]])"
            ]
          },
          "execution_count": 330,
          "metadata": {},
          "output_type": "execute_result"
        },
        {
          "name": "stdout",
          "output_type": "stream",
          "text": [
            "\n",
            "The row 30 is:\n",
            "\n"
          ]
        },
        {
          "data": {
            "text/plain": [
              "matrix([[0, 0, 0, ..., 0, 0, 0]])"
            ]
          },
          "execution_count": 330,
          "metadata": {},
          "output_type": "execute_result"
        }
      ],
      "source": [
        "print('Matrix is:\\n')\n",
        "cvt.transform(df['titles']).todense()\n",
        "print(\"\")\n",
        "print('The row {} is:\\n'.format(30))\n",
        "cvt.transform(df['titles']).todense()[30]"
      ]
    },
    {
      "cell_type": "markdown",
      "metadata": {
        "id": "j1bEFxsrqnRF"
      },
      "source": [
        "We can also use just `cvt.fit_transform` for the same result:"
      ]
    },
    {
      "cell_type": "code",
      "execution_count": null,
      "metadata": {
        "id": "i3MPlBBSqnRF",
        "outputId": "74dbf33c-fba9-4eb4-f004-62dee53571dc"
      },
      "outputs": [
        {
          "name": "stdout",
          "output_type": "stream",
          "text": [
            "Matrix is:\n",
            "\n"
          ]
        },
        {
          "data": {
            "text/plain": [
              "matrix([[0, 0, 0, ..., 0, 0, 0],\n",
              "        [0, 0, 0, ..., 0, 0, 0],\n",
              "        [0, 0, 0, ..., 0, 0, 0],\n",
              "        ...,\n",
              "        [0, 0, 0, ..., 0, 0, 0],\n",
              "        [0, 0, 0, ..., 0, 0, 0],\n",
              "        [0, 0, 0, ..., 0, 0, 0]], dtype=int64)"
            ]
          },
          "execution_count": 331,
          "metadata": {},
          "output_type": "execute_result"
        },
        {
          "name": "stdout",
          "output_type": "stream",
          "text": [
            "\n",
            "The row 30 is:\n",
            "\n"
          ]
        },
        {
          "data": {
            "text/plain": [
              "matrix([[0, 0, 0, ..., 0, 0, 0]], dtype=int64)"
            ]
          },
          "execution_count": 331,
          "metadata": {},
          "output_type": "execute_result"
        }
      ],
      "source": [
        "cvt = CountVectorizer(min_df=min_df, preprocessor=cleaner)\n",
        "print('Matrix is:\\n')\n",
        "cvt.fit_transform(df[\"titles\"]).todense()\n",
        "print(\"\")\n",
        "print('The row {} is:\\n'.format(30))\n",
        "cvt.fit_transform(df[\"titles\"]).todense()[30]"
      ]
    },
    {
      "cell_type": "markdown",
      "metadata": {
        "id": "EI43lsqTqnRF"
      },
      "source": [
        "We can plot histograms to find how many words are on each bin (the $x$-axis shows observed word frequencies above 3):"
      ]
    },
    {
      "cell_type": "code",
      "execution_count": null,
      "metadata": {
        "id": "M2eg4xC-qnRF",
        "outputId": "7865b4d7-a1e9-49c3-cca2-5bc4988a403d"
      },
      "outputs": [
        {
          "data": {
            "image/png": "[encoded data removed]",
            "text/plain": [
              "<matplotlib.figure.Figure at 0x1a25241da0>"
            ]
          },
          "metadata": {},
          "output_type": "display_data"
        }
      ],
      "source": [
        "pd.DataFrame(cvt.transform(df[\"titles\"]).sum(axis=0),columns=cvt.get_feature_names()).T.hist()\n",
        "plt.yscale('log')\n",
        "plt.xlabel('Word frequencies ', fontsize=12);\n",
        "plt.ylabel('Number of words per bin (log scale)', fontsize=12);\n",
        "plt.title('Histogram of word frequencies above 3', fontsize=12);"
      ]
    },
    {
      "cell_type": "code",
      "execution_count": null,
      "metadata": {
        "id": "jWg99UbpqnRF",
        "outputId": "2e4c8dd4-7920-4679-9c1b-8f87e2ef7ca2"
      },
      "outputs": [
        {
          "data": {
            "image/png": "[encoded data removed]",
            "text/plain": [
              "<matplotlib.figure.Figure at 0x1a22fb37f0>"
            ]
          },
          "metadata": {},
          "output_type": "display_data"
        }
      ],
      "source": [
        "pd.DataFrame(cvt.transform(df[\"titles\"]).sum(axis=0),columns=cvt.get_feature_names()).T.hist()\n",
        "plt.xlabel('Word frequencies ', fontsize=12);\n",
        "plt.ylabel('Number of words per bin', fontsize=12);\n",
        "plt.title('Histogram of word frequencies above 3', fontsize=12);"
      ]
    },
    {
      "cell_type": "markdown",
      "metadata": {
        "id": "Y_o5A8lTqnRF"
      },
      "source": [
        "### Let us now build a `DataFrame`:"
      ]
    },
    {
      "cell_type": "code",
      "execution_count": null,
      "metadata": {
        "id": "BvaurMjxqnRF",
        "outputId": "786ced0f-d354-4420-ebb4-9b22f4e854b7"
      },
      "outputs": [
        {
          "data": {
            "text/plain": [
              "1"
            ]
          },
          "execution_count": 336,
          "metadata": {},
          "output_type": "execute_result"
        }
      ],
      "source": [
        "min_df"
      ]
    },
    {
      "cell_type": "code",
      "execution_count": null,
      "metadata": {
        "id": "r5ly774lqnRG",
        "outputId": "41e8d456-dc1f-4371-8fbd-219d0783d439"
      },
      "outputs": [
        {
          "data": {
            "text/html": [
              "<div>\n",
              "<style scoped>\n",
              "    .dataframe tbody tr th:only-of-type {\n",
              "        vertical-align: middle;\n",
              "    }\n",
              "\n",
              "    .dataframe tbody tr th {\n",
              "        vertical-align: top;\n",
              "    }\n",
              "\n",
              "    .dataframe thead th {\n",
              "        text-align: right;\n",
              "    }\n",
              "</style>\n",
              "<table border=\"1\" class=\"dataframe\">\n",
              "  <thead>\n",
              "    <tr style=\"text-align: right;\">\n",
              "      <th></th>\n",
              "      <th>abandon</th>\n",
              "      <th>abgeb</th>\n",
              "      <th>abomin</th>\n",
              "      <th>absolut</th>\n",
              "      <th>absolutelynotmeirl</th>\n",
              "      <th>accept</th>\n",
              "      <th>accident</th>\n",
              "      <th>accord</th>\n",
              "      <th>account</th>\n",
              "      <th>accus</th>\n",
              "      <th>...</th>\n",
              "      <th>yosemit</th>\n",
              "      <th>you</th>\n",
              "      <th>young</th>\n",
              "      <th>your</th>\n",
              "      <th>yourself</th>\n",
              "      <th>ypg</th>\n",
              "      <th>zip</th>\n",
              "      <th>ክቿሠነ</th>\n",
              "      <th>ክቿዪሀዐሁነ</th>\n",
              "      <th>ጌዪቿልጕጎክኗ</th>\n",
              "    </tr>\n",
              "  </thead>\n",
              "  <tbody>\n",
              "    <tr>\n",
              "      <th>0</th>\n",
              "      <td>0</td>\n",
              "      <td>0</td>\n",
              "      <td>0</td>\n",
              "      <td>0</td>\n",
              "      <td>0</td>\n",
              "      <td>0</td>\n",
              "      <td>0</td>\n",
              "      <td>0</td>\n",
              "      <td>0</td>\n",
              "      <td>0</td>\n",
              "      <td>...</td>\n",
              "      <td>0</td>\n",
              "      <td>0</td>\n",
              "      <td>0</td>\n",
              "      <td>0</td>\n",
              "      <td>0</td>\n",
              "      <td>0</td>\n",
              "      <td>0</td>\n",
              "      <td>0</td>\n",
              "      <td>0</td>\n",
              "      <td>0</td>\n",
              "    </tr>\n",
              "    <tr>\n",
              "      <th>1</th>\n",
              "      <td>0</td>\n",
              "      <td>0</td>\n",
              "      <td>0</td>\n",
              "      <td>0</td>\n",
              "      <td>0</td>\n",
              "      <td>0</td>\n",
              "      <td>0</td>\n",
              "      <td>0</td>\n",
              "      <td>0</td>\n",
              "      <td>0</td>\n",
              "      <td>...</td>\n",
              "      <td>0</td>\n",
              "      <td>0</td>\n",
              "      <td>0</td>\n",
              "      <td>0</td>\n",
              "      <td>0</td>\n",
              "      <td>0</td>\n",
              "      <td>0</td>\n",
              "      <td>0</td>\n",
              "      <td>0</td>\n",
              "      <td>0</td>\n",
              "    </tr>\n",
              "    <tr>\n",
              "      <th>2</th>\n",
              "      <td>0</td>\n",
              "      <td>0</td>\n",
              "      <td>0</td>\n",
              "      <td>0</td>\n",
              "      <td>0</td>\n",
              "      <td>0</td>\n",
              "      <td>0</td>\n",
              "      <td>0</td>\n",
              "      <td>0</td>\n",
              "      <td>0</td>\n",
              "      <td>...</td>\n",
              "      <td>0</td>\n",
              "      <td>0</td>\n",
              "      <td>0</td>\n",
              "      <td>0</td>\n",
              "      <td>0</td>\n",
              "      <td>0</td>\n",
              "      <td>0</td>\n",
              "      <td>0</td>\n",
              "      <td>0</td>\n",
              "      <td>0</td>\n",
              "    </tr>\n",
              "    <tr>\n",
              "      <th>3</th>\n",
              "      <td>0</td>\n",
              "      <td>0</td>\n",
              "      <td>0</td>\n",
              "      <td>0</td>\n",
              "      <td>0</td>\n",
              "      <td>0</td>\n",
              "      <td>0</td>\n",
              "      <td>0</td>\n",
              "      <td>0</td>\n",
              "      <td>0</td>\n",
              "      <td>...</td>\n",
              "      <td>0</td>\n",
              "      <td>0</td>\n",
              "      <td>0</td>\n",
              "      <td>0</td>\n",
              "      <td>0</td>\n",
              "      <td>0</td>\n",
              "      <td>0</td>\n",
              "      <td>0</td>\n",
              "      <td>0</td>\n",
              "      <td>0</td>\n",
              "    </tr>\n",
              "    <tr>\n",
              "      <th>4</th>\n",
              "      <td>0</td>\n",
              "      <td>0</td>\n",
              "      <td>0</td>\n",
              "      <td>0</td>\n",
              "      <td>0</td>\n",
              "      <td>0</td>\n",
              "      <td>0</td>\n",
              "      <td>0</td>\n",
              "      <td>0</td>\n",
              "      <td>0</td>\n",
              "      <td>...</td>\n",
              "      <td>0</td>\n",
              "      <td>0</td>\n",
              "      <td>0</td>\n",
              "      <td>0</td>\n",
              "      <td>0</td>\n",
              "      <td>0</td>\n",
              "      <td>0</td>\n",
              "      <td>0</td>\n",
              "      <td>0</td>\n",
              "      <td>0</td>\n",
              "    </tr>\n",
              "  </tbody>\n",
              "</table>\n",
              "<p>5 rows × 1823 columns</p>\n",
              "</div>"
            ],
            "text/plain": [
              "   abandon  abgeb  abomin  absolut  absolutelynotmeirl  accept  accident  \\\n",
              "0        0      0       0        0                   0       0         0   \n",
              "1        0      0       0        0                   0       0         0   \n",
              "2        0      0       0        0                   0       0         0   \n",
              "3        0      0       0        0                   0       0         0   \n",
              "4        0      0       0        0                   0       0         0   \n",
              "\n",
              "   accord  account  accus    ...     yosemit  you  young  your  yourself  ypg  \\\n",
              "0       0        0      0    ...           0    0      0     0         0    0   \n",
              "1       0        0      0    ...           0    0      0     0         0    0   \n",
              "2       0        0      0    ...           0    0      0     0         0    0   \n",
              "3       0        0      0    ...           0    0      0     0         0    0   \n",
              "4       0        0      0    ...           0    0      0     0         0    0   \n",
              "\n",
              "   zip  ክቿሠነ  ክቿዪሀዐሁነ  ጌዪቿልጕጎክኗ  \n",
              "0    0     0        0         0  \n",
              "1    0     0        0         0  \n",
              "2    0     0        0         0  \n",
              "3    0     0        0         0  \n",
              "4    0     0        0         0  \n",
              "\n",
              "[5 rows x 1823 columns]"
            ]
          },
          "execution_count": 337,
          "metadata": {},
          "output_type": "execute_result"
        },
        {
          "data": {
            "text/plain": [
              "(512, 1823)"
            ]
          },
          "execution_count": 337,
          "metadata": {},
          "output_type": "execute_result"
        }
      ],
      "source": [
        "cvt = CountVectorizer(min_df=min_df, preprocessor=cleaner)\n",
        "X_title = cvt.fit_transform(df[\"titles\"])\n",
        "X_thread = pd.DataFrame(X_title.todense(),\n",
        "                        columns=cvt.get_feature_names())\n",
        "\n",
        "X_thread.head()\n",
        "X_thread.shape"
      ]
    },
    {
      "cell_type": "markdown",
      "metadata": {
        "id": "iIVKxABiqnRG"
      },
      "source": [
        "### Let us examine the top 5 occuring words:"
      ]
    },
    {
      "cell_type": "code",
      "execution_count": null,
      "metadata": {
        "id": "954WgyzyqnRG",
        "outputId": "50279b68-ae1f-492f-b532-742cabb6b010"
      },
      "outputs": [
        {
          "name": "stdout",
          "output_type": "stream",
          "text": [
            "The most common words are:\n",
            "\n"
          ]
        },
        {
          "data": {
            "text/plain": [
              "get     17\n",
              "like    16\n",
              "love    15\n",
              "new     15\n",
              "year    15\n",
              "dtype: int64"
            ]
          },
          "execution_count": 338,
          "metadata": {},
          "output_type": "execute_result"
        }
      ],
      "source": [
        "print('The most common words are:\\n')\n",
        "X_thread.sum().sort_values(ascending=False).head()"
      ]
    },
    {
      "cell_type": "markdown",
      "metadata": {
        "id": "5xvhO9HdqnRG"
      },
      "source": [
        "### We will now join both datasets, the one about subreddits and the one about threads"
      ]
    },
    {
      "cell_type": "code",
      "execution_count": null,
      "metadata": {
        "id": "FJ7Z2iXxqnRG",
        "outputId": "54b0f5f0-887e-4fc2-d65c-a92744052b52"
      },
      "outputs": [
        {
          "data": {
            "text/html": [
              "<div>\n",
              "<style scoped>\n",
              "    .dataframe tbody tr th:only-of-type {\n",
              "        vertical-align: middle;\n",
              "    }\n",
              "\n",
              "    .dataframe tbody tr th {\n",
              "        vertical-align: top;\n",
              "    }\n",
              "\n",
              "    .dataframe thead th {\n",
              "        text-align: right;\n",
              "    }\n",
              "</style>\n",
              "<table border=\"1\" class=\"dataframe\">\n",
              "  <thead>\n",
              "    <tr style=\"text-align: right;\">\n",
              "      <th></th>\n",
              "      <th>binary</th>\n",
              "      <th>4PanelCringe</th>\n",
              "      <th>ACPocketCamp</th>\n",
              "      <th>AFL</th>\n",
              "      <th>ATBGE</th>\n",
              "      <th>AbandonedPorn</th>\n",
              "      <th>AccidentalWesAnderson</th>\n",
              "      <th>Android</th>\n",
              "      <th>AnimalsBeingBros</th>\n",
              "      <th>AnimalsBeingDerps</th>\n",
              "      <th>...</th>\n",
              "      <th>yosemit</th>\n",
              "      <th>you</th>\n",
              "      <th>young</th>\n",
              "      <th>your</th>\n",
              "      <th>yourself</th>\n",
              "      <th>ypg</th>\n",
              "      <th>zip</th>\n",
              "      <th>ክቿሠነ</th>\n",
              "      <th>ክቿዪሀዐሁነ</th>\n",
              "      <th>ጌዪቿልጕጎክኗ</th>\n",
              "    </tr>\n",
              "  </thead>\n",
              "  <tbody>\n",
              "    <tr>\n",
              "      <th>0</th>\n",
              "      <td>0</td>\n",
              "      <td>0</td>\n",
              "      <td>0</td>\n",
              "      <td>0</td>\n",
              "      <td>0</td>\n",
              "      <td>0</td>\n",
              "      <td>0</td>\n",
              "      <td>0</td>\n",
              "      <td>0</td>\n",
              "      <td>0</td>\n",
              "      <td>...</td>\n",
              "      <td>0</td>\n",
              "      <td>0</td>\n",
              "      <td>0</td>\n",
              "      <td>0</td>\n",
              "      <td>0</td>\n",
              "      <td>0</td>\n",
              "      <td>0</td>\n",
              "      <td>0</td>\n",
              "      <td>0</td>\n",
              "      <td>0</td>\n",
              "    </tr>\n",
              "    <tr>\n",
              "      <th>1</th>\n",
              "      <td>1</td>\n",
              "      <td>0</td>\n",
              "      <td>0</td>\n",
              "      <td>0</td>\n",
              "      <td>0</td>\n",
              "      <td>0</td>\n",
              "      <td>0</td>\n",
              "      <td>0</td>\n",
              "      <td>0</td>\n",
              "      <td>0</td>\n",
              "      <td>...</td>\n",
              "      <td>0</td>\n",
              "      <td>0</td>\n",
              "      <td>0</td>\n",
              "      <td>0</td>\n",
              "      <td>0</td>\n",
              "      <td>0</td>\n",
              "      <td>0</td>\n",
              "      <td>0</td>\n",
              "      <td>0</td>\n",
              "      <td>0</td>\n",
              "    </tr>\n",
              "    <tr>\n",
              "      <th>2</th>\n",
              "      <td>0</td>\n",
              "      <td>0</td>\n",
              "      <td>0</td>\n",
              "      <td>0</td>\n",
              "      <td>0</td>\n",
              "      <td>0</td>\n",
              "      <td>0</td>\n",
              "      <td>0</td>\n",
              "      <td>0</td>\n",
              "      <td>0</td>\n",
              "      <td>...</td>\n",
              "      <td>0</td>\n",
              "      <td>0</td>\n",
              "      <td>0</td>\n",
              "      <td>0</td>\n",
              "      <td>0</td>\n",
              "      <td>0</td>\n",
              "      <td>0</td>\n",
              "      <td>0</td>\n",
              "      <td>0</td>\n",
              "      <td>0</td>\n",
              "    </tr>\n",
              "    <tr>\n",
              "      <th>3</th>\n",
              "      <td>1</td>\n",
              "      <td>0</td>\n",
              "      <td>0</td>\n",
              "      <td>0</td>\n",
              "      <td>0</td>\n",
              "      <td>0</td>\n",
              "      <td>0</td>\n",
              "      <td>0</td>\n",
              "      <td>0</td>\n",
              "      <td>0</td>\n",
              "      <td>...</td>\n",
              "      <td>0</td>\n",
              "      <td>0</td>\n",
              "      <td>0</td>\n",
              "      <td>0</td>\n",
              "      <td>0</td>\n",
              "      <td>0</td>\n",
              "      <td>0</td>\n",
              "      <td>0</td>\n",
              "      <td>0</td>\n",
              "      <td>0</td>\n",
              "    </tr>\n",
              "    <tr>\n",
              "      <th>4</th>\n",
              "      <td>0</td>\n",
              "      <td>0</td>\n",
              "      <td>0</td>\n",
              "      <td>0</td>\n",
              "      <td>0</td>\n",
              "      <td>0</td>\n",
              "      <td>0</td>\n",
              "      <td>0</td>\n",
              "      <td>0</td>\n",
              "      <td>0</td>\n",
              "      <td>...</td>\n",
              "      <td>0</td>\n",
              "      <td>0</td>\n",
              "      <td>0</td>\n",
              "      <td>0</td>\n",
              "      <td>0</td>\n",
              "      <td>0</td>\n",
              "      <td>0</td>\n",
              "      <td>0</td>\n",
              "      <td>0</td>\n",
              "      <td>0</td>\n",
              "    </tr>\n",
              "  </tbody>\n",
              "</table>\n",
              "<p>5 rows × 2120 columns</p>\n",
              "</div>"
            ],
            "text/plain": [
              "   binary  4PanelCringe  ACPocketCamp  AFL  ATBGE  AbandonedPorn  \\\n",
              "0       0             0             0    0      0              0   \n",
              "1       1             0             0    0      0              0   \n",
              "2       0             0             0    0      0              0   \n",
              "3       1             0             0    0      0              0   \n",
              "4       0             0             0    0      0              0   \n",
              "\n",
              "   AccidentalWesAnderson  Android  AnimalsBeingBros  AnimalsBeingDerps  \\\n",
              "0                      0        0                 0                  0   \n",
              "1                      0        0                 0                  0   \n",
              "2                      0        0                 0                  0   \n",
              "3                      0        0                 0                  0   \n",
              "4                      0        0                 0                  0   \n",
              "\n",
              "     ...     yosemit  you  young  your  yourself  ypg  zip  ክቿሠነ  ክቿዪሀዐሁነ  \\\n",
              "0    ...           0    0      0     0         0    0    0     0        0   \n",
              "1    ...           0    0      0     0         0    0    0     0        0   \n",
              "2    ...           0    0      0     0         0    0    0     0        0   \n",
              "3    ...           0    0      0     0         0    0    0     0        0   \n",
              "4    ...           0    0      0     0         0    0    0     0        0   \n",
              "\n",
              "   ጌዪቿልጕጎክኗ  \n",
              "0         0  \n",
              "1         0  \n",
              "2         0  \n",
              "3         0  \n",
              "4         0  \n",
              "\n",
              "[5 rows x 2120 columns]"
            ]
          },
          "execution_count": 339,
          "metadata": {},
          "output_type": "execute_result"
        },
        {
          "data": {
            "text/plain": [
              "(512, 2120)"
            ]
          },
          "execution_count": 339,
          "metadata": {},
          "output_type": "execute_result"
        }
      ],
      "source": [
        "df_subred = pd.read_csv('subred_1.csv',index_col=0)\n",
        "df_all = pd.concat([df_subred,X_thread],axis=1)\n",
        "df_all.head()\n",
        "df_all.shape"
      ]
    },
    {
      "cell_type": "code",
      "execution_count": null,
      "metadata": {
        "id": "j33EL9WoqnRG"
      },
      "outputs": [],
      "source": [
        "df_all.to_csv('df_threads_and_subreddits_new.csv')"
      ]
    },
    {
      "cell_type": "markdown",
      "metadata": {
        "id": "LivuWXB2qnRH"
      },
      "source": [
        "Let us drop eventual duplicates:"
      ]
    },
    {
      "cell_type": "code",
      "execution_count": null,
      "metadata": {
        "scrolled": false,
        "id": "DgjXJoBSqnRH",
        "outputId": "2c5f3c29-9583-4105-c264-b39bede0dad2"
      },
      "outputs": [
        {
          "data": {
            "text/plain": [
              "(512, 2120)"
            ]
          },
          "execution_count": 341,
          "metadata": {},
          "output_type": "execute_result"
        },
        {
          "data": {
            "text/plain": [
              "(512, 1080)"
            ]
          },
          "execution_count": 341,
          "metadata": {},
          "output_type": "execute_result"
        }
      ],
      "source": [
        "df_all.shape\n",
        "df_all = df_all.T.drop_duplicates().T\n",
        "df_all.shape"
      ]
    },
    {
      "cell_type": "markdown",
      "metadata": {
        "id": "c9oI59HyqnRH"
      },
      "source": [
        "### We apply the last two functions steps again:\n",
        "- Apply `rfscore2`\n",
        "- Apply `rfscore_3`"
      ]
    },
    {
      "cell_type": "code",
      "execution_count": null,
      "metadata": {
        "id": "QSb44c4oqnRH",
        "outputId": "c983e9d5-c237-4f69-e160-879bec885b6d"
      },
      "outputs": [
        {
          "name": "stdout",
          "output_type": "stream",
          "text": [
            "Fitting 5 folds for each of 220 candidates, totalling 1100 fits\n"
          ]
        },
        {
          "name": "stderr",
          "output_type": "stream",
          "text": [
            "[Parallel(n_jobs=-1)]: Done  42 tasks      | elapsed:    4.0s\n",
            "[Parallel(n_jobs=-1)]: Done 192 tasks      | elapsed:   29.4s\n",
            "[Parallel(n_jobs=-1)]: Done 442 tasks      | elapsed:  1.1min\n",
            "[Parallel(n_jobs=-1)]: Done 792 tasks      | elapsed:  2.1min\n",
            "[Parallel(n_jobs=-1)]: Done 1100 out of 1100 | elapsed:  3.1min finished\n"
          ]
        },
        {
          "name": "stdout",
          "output_type": "stream",
          "text": [
            "GridSearch results\n",
            "The best parameters on the training data are:\n",
            " {'max_depth': 10, 'n_estimators': 30}\n",
            "best max_depth: 10\n",
            "best n_estimators: 30\n",
            "best score is: 0.56\n",
            "Is the prediction smaller (S) or larger (L) than the median:\n",
            "\n",
            "['S', 'L', 'S', 'L', 'S', 'S', 'L', 'S', 'L', 'L', 'S', 'S', 'S', 'S', 'S', 'S', 'S', 'L', 'L', 'L', 'S', 'L', 'S', 'L', 'L', 'S', 'S', 'L', 'S', 'L', 'S', 'S', 'L', 'S', 'S', 'S', 'S', 'S', 'S', 'L', 'S', 'S', 'S', 'S', 'S', 'S', 'S', 'S', 'S', 'S', 'S', 'L', 'L', 'L', 'S', 'S', 'S', 'S', 'L', 'S', 'S', 'S', 'S', 'S', 'L', 'S', 'S', 'S', 'S', 'S', 'S', 'S', 'S', 'S', 'S', 'S', 'S', 'S', 'S', 'S', 'S', 'S', 'S', 'S', 'S', 'S', 'L', 'S', 'S', 'S', 'L', 'L', 'S', 'S', 'S', 'S', 'S', 'S', 'S', 'S', 'L', 'S', 'S', 'L', 'S', 'S', 'S', 'S', 'L', 'S', 'S', 'S', 'S', 'L', 'S', 'S', 'S', 'L', 'S', 'S', 'S', 'S', 'L', 'S', 'S', 'S', 'L', 'S', 'S', 'L', 'S', 'S', 'S', 'S', 'S', 'S', 'L', 'S', 'S', 'S', 'S', 'S', 'S', 'S', 'S', 'L', 'S', 'S', 'S', 'L', 'S', 'S', 'L', 'S']\n",
            "\n",
            "What were the probabilities of the each result above:\n",
            "\n",
            "Probabilities that the number of comments is smaller than the media for each observation are:\n",
            "\n",
            "[('S', 0.54), ('S', 0.46), ('S', 0.57), ('S', 0.5), ('S', 0.54), ('S', 0.54), ('S', 0.5), ('S', 0.54), ('S', 0.44), ('S', 0.41), ('S', 0.52), ('S', 0.54), ('S', 0.54), ('S', 0.55), ('S', 0.54), ('S', 0.57), ('S', 0.54), ('S', 0.44), ('S', 0.46), ('S', 0.47), ('S', 0.54), ('S', 0.48), ('S', 0.54), ('S', 0.48), ('S', 0.5), ('S', 0.5), ('S', 0.54), ('S', 0.46), ('S', 0.57), ('S', 0.48), ('S', 0.55), ('S', 0.52), ('S', 0.5), ('S', 0.52), ('S', 0.52), ('S', 0.54), ('S', 0.54), ('S', 0.58), ('S', 0.57), ('S', 0.49), ('S', 0.59), ('S', 0.66), ('S', 0.57), ('S', 0.54), ('S', 0.54), ('S', 0.54), ('S', 0.55), ('S', 0.56), ('S', 0.54), ('S', 0.54), ('S', 0.54), ('S', 0.48), ('S', 0.48), ('S', 0.46), ('S', 0.54), ('S', 0.52), ('S', 0.54), ('S', 0.52), ('S', 0.46), ('S', 0.54), ('S', 0.54), ('S', 0.54), ('S', 0.57), ('S', 0.54), ('S', 0.48), ('S', 0.54), ('S', 0.54), ('S', 0.54), ('S', 0.54), ('S', 0.54), ('S', 0.52), ('S', 0.54), ('S', 0.53), ('S', 0.52), ('S', 0.54), ('S', 0.57), ('S', 0.55), ('S', 0.54), ('S', 0.54), ('S', 0.54), ('S', 0.57), ('S', 0.5), ('S', 0.54), ('S', 0.53), ('S', 0.55), ('S', 0.55), ('S', 0.46), ('S', 0.54), ('S', 0.5), ('S', 0.55), ('S', 0.46), ('S', 0.46), ('S', 0.54), ('S', 0.55), ('S', 0.54), ('S', 0.55), ('S', 0.52), ('S', 0.52), ('S', 0.54), ('S', 0.54), ('S', 0.35), ('S', 0.54), ('S', 0.52), ('S', 0.39), ('S', 0.52), ('S', 0.54), ('S', 0.54), ('S', 0.54), ('S', 0.44), ('S', 0.51), ('S', 0.52), ('S', 0.57), ('S', 0.52), ('S', 0.44), ('S', 0.58), ('S', 0.59), ('S', 0.54), ('S', 0.48), ('S', 0.56), ('S', 0.51), ('S', 0.51), ('S', 0.57), ('S', 0.49), ('S', 0.54), ('S', 0.54), ('S', 0.54), ('S', 0.5), ('S', 0.52), ('S', 0.54), ('S', 0.41), ('S', 0.54), ('S', 0.54), ('S', 0.54), ('S', 0.53), ('S', 0.5), ('S', 0.54), ('S', 0.46), ('S', 0.54), ('S', 0.59), ('S', 0.55), ('S', 0.54), ('S', 0.54), ('S', 0.52), ('S', 0.53), ('S', 0.54), ('S', 0.5), ('S', 0.53), ('S', 0.54), ('S', 0.52), ('S', 0.34), ('S', 0.54), ('S', 0.5), ('S', 0.39), ('S', 0.55)]\n",
            "\n",
            "Confusion Matrix:\n",
            "\n",
            "Predicted Values   0   1\n",
            "Actual Values           \n",
            "0                 63  11\n",
            "1                 56  24\n",
            "Features and their importance:\n",
            "\n",
            "AxesSubplot(0.125,0.125;0.775x0.755)\n"
          ]
        },
        {
          "data": {
            "image/png": "[encoded data removed]",
            "text/plain": [
              "<matplotlib.figure.Figure at 0x1a2533ce80>"
            ]
          },
          "metadata": {},
          "output_type": "display_data"
        }
      ],
      "source": [
        "n_estimators = list(range(20,220,10))\n",
        "max_depth = list(range(2, 22, 2)) + [None]\n",
        "\n",
        "rfscore2(df_all,'binary',0.3,n_estimators,max_depth)"
      ]
    },
    {
      "cell_type": "code",
      "execution_count": null,
      "metadata": {
        "id": "hIbqV60aqnRH"
      },
      "outputs": [],
      "source": []
    },
    {
      "cell_type": "code",
      "execution_count": null,
      "metadata": {
        "id": "rG9DalmwqnRH"
      },
      "outputs": [],
      "source": []
    },
    {
      "cell_type": "code",
      "execution_count": null,
      "metadata": {
        "id": "iDqb82a7qnRH",
        "outputId": "083ae405-16f4-42d5-b861-93d35d5aec66"
      },
      "outputs": [
        {
          "name": "stdout",
          "output_type": "stream",
          "text": [
            "Fitting 5 folds for each of 1100 candidates, totalling 5500 fits\n"
          ]
        },
        {
          "name": "stderr",
          "output_type": "stream",
          "text": [
            "[Parallel(n_jobs=-1)]: Done  42 tasks      | elapsed:    3.5s\n",
            "[Parallel(n_jobs=-1)]: Done 192 tasks      | elapsed:   26.8s\n",
            "[Parallel(n_jobs=-1)]: Done 442 tasks      | elapsed:  1.0min\n",
            "[Parallel(n_jobs=-1)]: Done 792 tasks      | elapsed:  1.9min\n",
            "[Parallel(n_jobs=-1)]: Done 1242 tasks      | elapsed:  3.1min\n",
            "[Parallel(n_jobs=-1)]: Done 1792 tasks      | elapsed:  4.5min\n",
            "[Parallel(n_jobs=-1)]: Done 2442 tasks      | elapsed:  6.3min\n",
            "[Parallel(n_jobs=-1)]: Done 3192 tasks      | elapsed:  8.5min\n",
            "[Parallel(n_jobs=-1)]: Done 4042 tasks      | elapsed: 11.0min\n",
            "[Parallel(n_jobs=-1)]: Done 4992 tasks      | elapsed: 14.3min\n",
            "[Parallel(n_jobs=-1)]: Done 5500 out of 5500 | elapsed: 17.3min finished\n"
          ]
        },
        {
          "name": "stdout",
          "output_type": "stream",
          "text": [
            "GridSearch results\n",
            "The best parameters on the training data are:\n",
            " {'max_depth': 4, 'min_samples_split': 6, 'n_estimators': 30}\n",
            "best max_depth: 4\n",
            "best n_estimators: 30\n",
            "best score is: 0.68\n",
            "Is the prediction smaller (S) or larger (L) than the median:\n",
            "\n",
            "['S', 'L', 'S', 'L', 'S', 'S', 'S', 'L', 'S', 'S', 'S', 'S', 'S', 'L', 'S', 'S', 'S', 'S', 'L', 'L', 'L', 'S', 'S', 'S', 'S', 'S', 'S', 'L', 'S', 'S', 'L', 'S', 'S', 'L', 'S', 'S', 'L', 'S', 'S', 'S', 'S', 'S', 'S', 'S', 'S', 'S', 'L', 'S', 'S', 'S', 'S', 'S', 'S', 'S', 'L', 'S', 'S', 'S', 'S', 'L', 'S', 'S', 'S', 'L', 'S', 'S', 'L', 'S', 'S', 'S', 'S', 'S', 'S', 'S', 'S', 'S', 'S', 'S', 'S', 'S', 'L', 'L', 'S', 'L', 'S', 'S', 'L', 'S', 'S', 'S', 'S', 'S', 'S', 'S', 'S', 'S', 'S', 'S', 'S', 'S', 'S', 'S', 'S', 'S', 'S', 'S', 'L', 'S', 'S', 'S', 'S', 'S', 'S', 'L', 'L', 'L', 'S', 'S', 'S', 'L', 'S', 'S', 'S', 'S', 'S', 'S', 'S', 'S', 'S', 'S', 'S', 'S', 'S', 'S', 'S', 'S', 'S', 'S', 'S', 'S', 'S', 'S', 'L', 'S', 'S', 'L', 'S', 'S', 'S', 'S', 'S', 'S', 'S', 'S', 'S', 'S', 'L', 'S', 'S', 'S', 'L', 'S', 'S', 'S', 'S', 'S', 'S', 'S', 'S', 'L', 'L', 'S', 'L', 'L', 'L', 'L', 'L', 'L', 'L', 'L', 'S', 'L', 'S', 'S', 'S', 'L', 'S', 'S', 'S', 'L', 'L', 'L', 'L', 'L', 'L', 'L', 'S', 'S', 'S', 'L', 'L', 'L', 'S', 'S', 'L', 'L', 'L', 'S', 'S', 'S', 'L', 'L', 'L', 'L', 'L', 'S', 'S', 'S', 'L', 'L', 'S', 'L', 'S', 'S', 'S', 'L', 'S', 'S', 'L', 'S', 'L', 'L', 'S', 'L', 'L', 'L', 'L', 'S', 'L', 'S', 'S', 'S', 'S', 'S', 'S', 'S', 'L', 'L', 'S', 'S', 'L', 'L', 'S', 'S', 'S', 'S', 'L', 'S', 'L', 'S', 'S', 'S', 'S', 'S', 'S', 'L', 'S', 'S', 'L', 'S', 'S', 'L', 'S', 'S', 'S', 'L', 'L', 'S', 'L', 'S', 'S', 'S', 'L', 'S', 'L', 'L', 'L', 'S', 'S', 'S', 'S', 'S', 'S', 'S', 'S', 'S', 'S', 'L', 'L', 'S', 'S', 'L', 'L', 'S', 'S', 'S', 'S', 'S', 'S', 'S', 'S', 'S', 'L', 'S', 'L', 'S', 'S', 'S', 'S', 'S', 'L', 'S', 'L', 'L', 'S', 'S', 'S', 'L', 'S', 'S', 'S', 'S', 'L', 'S', 'S', 'S', 'S', 'S', 'S', 'S', 'S', 'S', 'S', 'L', 'S', 'L', 'L', 'S', 'L', 'S', 'S', 'S', 'S', 'L', 'L', 'S', 'S', 'S', 'S', 'S', 'S', 'L', 'S', 'S', 'L', 'S', 'S', 'S', 'L', 'S', 'S', 'L', 'S', 'L', 'S', 'S', 'L', 'S', 'S', 'S', 'L', 'S', 'S', 'S', 'S', 'S', 'S', 'S', 'S', 'S', 'L', 'S', 'S', 'S', 'S', 'S', 'S', 'S', 'S', 'S', 'L', 'S', 'L', 'S', 'L', 'S', 'S', 'S', 'S', 'S', 'S', 'S', 'S', 'S', 'S', 'S', 'S', 'S', 'S', 'S', 'S', 'S', 'S', 'S', 'S', 'S', 'S', 'S', 'S', 'S', 'S', 'S', 'S', 'S', 'S', 'S', 'S', 'S', 'L', 'L', 'L', 'S', 'L', 'L', 'S', 'S', 'S', 'S', 'S', 'S', 'L', 'L', 'S', 'S', 'S', 'S', 'S', 'S', 'S', 'L', 'S', 'S', 'S', 'L', 'S', 'S', 'L', 'S', 'S', 'S', 'L', 'L', 'S', 'S', 'S', 'L', 'L', 'S', 'S', 'L', 'L', 'L', 'L', 'S', 'L', 'S', 'S', 'S', 'S', 'S', 'S', 'S', 'S', 'S', 'L', 'S', 'L', 'S', 'S', 'S', 'S', 'L', 'S', 'S', 'S', 'S', 'S', 'S', 'L', 'S', 'S', 'S']\n",
            "\n",
            "What were the probabilities of the each result above:\n",
            "\n",
            "Probabilities that the number of comments is smaller than the media for each observation are:\n",
            "\n",
            "[('S', 0.51), ('S', 0.49), ('S', 0.51), ('S', 0.49), ('S', 0.53), ('S', 0.51), ('S', 0.51), ('S', 0.49), ('S', 0.51), ('S', 0.51), ('S', 0.51), ('S', 0.51), ('S', 0.52), ('S', 0.49), ('S', 0.51), ('S', 0.51), ('S', 0.51), ('S', 0.51), ('S', 0.47), ('S', 0.49), ('S', 0.49), ('S', 0.51), ('S', 0.5), ('S', 0.51), ('S', 0.51), ('S', 0.51), ('S', 0.51), ('S', 0.46), ('S', 0.51), ('S', 0.51), ('S', 0.44), ('S', 0.51), ('S', 0.51), ('S', 0.47), ('S', 0.51), ('S', 0.51), ('S', 0.49), ('S', 0.51), ('S', 0.51), ('S', 0.51), ('S', 0.51), ('S', 0.51), ('S', 0.51), ('S', 0.51), ('S', 0.51), ('S', 0.52), ('S', 0.46), ('S', 0.53), ('S', 0.52), ('S', 0.51), ('S', 0.51), ('S', 0.52), ('S', 0.51), ('S', 0.53), ('S', 0.49), ('S', 0.51), ('S', 0.51), ('S', 0.53), ('S', 0.51), ('S', 0.49), ('S', 0.51), ('S', 0.51), ('S', 0.51), ('S', 0.47), ('S', 0.51), ('S', 0.53), ('S', 0.44), ('S', 0.51), ('S', 0.62), ('S', 0.51), ('S', 0.51), ('S', 0.51), ('S', 0.53), ('S', 0.51), ('S', 0.51), ('S', 0.54), ('S', 0.54), ('S', 0.51), ('S', 0.51), ('S', 0.51), ('S', 0.46), ('S', 0.44), ('S', 0.51), ('S', 0.48), ('S', 0.51), ('S', 0.51), ('S', 0.49), ('S', 0.53), ('S', 0.51), ('S', 0.52), ('S', 0.51), ('S', 0.51), ('S', 0.51), ('S', 0.51), ('S', 0.51), ('S', 0.51), ('S', 0.51), ('S', 0.52), ('S', 0.51), ('S', 0.51), ('S', 0.51), ('S', 0.51), ('S', 0.51), ('S', 0.51), ('S', 0.52), ('S', 0.51), ('S', 0.48), ('S', 0.51), ('S', 0.51), ('S', 0.51), ('S', 0.51), ('S', 0.51), ('S', 0.51), ('S', 0.4), ('S', 0.47), ('S', 0.49), ('S', 0.52), ('S', 0.51), ('S', 0.51), ('S', 0.49), ('S', 0.5), ('S', 0.51), ('S', 0.51), ('S', 0.51), ('S', 0.52), ('S', 0.61), ('S', 0.51), ('S', 0.52), ('S', 0.51), ('S', 0.52), ('S', 0.51), ('S', 0.51), ('S', 0.52), ('S', 0.51), ('S', 0.51), ('S', 0.51), ('S', 0.51), ('S', 0.51), ('S', 0.51), ('S', 0.51), ('S', 0.51), ('S', 0.51), ('S', 0.49), ('S', 0.52), ('S', 0.54), ('S', 0.49), ('S', 0.51), ('S', 0.51), ('S', 0.51), ('S', 0.51), ('S', 0.51), ('S', 0.51), ('S', 0.51), ('S', 0.51), ('S', 0.51), ('S', 0.51), ('S', 0.49), ('S', 0.52), ('S', 0.51), ('S', 0.56), ('S', 0.49), ('S', 0.51), ('S', 0.51), ('S', 0.51), ('S', 0.61), ('S', 0.51), ('S', 0.51), ('S', 0.51), ('S', 0.51), ('S', 0.44), ('S', 0.44), ('S', 0.51), ('S', 0.49), ('S', 0.47), ('S', 0.44), ('S', 0.46), ('S', 0.47), ('S', 0.48), ('S', 0.46), ('S', 0.49), ('S', 0.51), ('S', 0.47), ('S', 0.51), ('S', 0.51), ('S', 0.51), ('S', 0.49), ('S', 0.52), ('S', 0.51), ('S', 0.51), ('S', 0.43), ('S', 0.49), ('S', 0.46), ('S', 0.49), ('S', 0.49), ('S', 0.49), ('S', 0.47), ('S', 0.51), ('S', 0.51), ('S', 0.51), ('S', 0.44), ('S', 0.47), ('S', 0.49), ('S', 0.51), ('S', 0.51), ('S', 0.49), ('S', 0.44), ('S', 0.47), ('S', 0.51), ('S', 0.51), ('S', 0.51), ('S', 0.44), ('S', 0.49), ('S', 0.47), ('S', 0.44), ('S', 0.47), ('S', 0.51), ('S', 0.51), ('S', 0.52), ('S', 0.47), ('S', 0.5), ('S', 0.51), ('S', 0.47), ('S', 0.51), ('S', 0.51), ('S', 0.51), ('S', 0.49), ('S', 0.51), ('S', 0.51), ('S', 0.49), ('S', 0.51), ('S', 0.49), ('S', 0.47), ('S', 0.51), ('S', 0.46), ('S', 0.47), ('S', 0.49), ('S', 0.49), ('S', 0.51), ('S', 0.44), ('S', 0.55), ('S', 0.51), ('S', 0.51), ('S', 0.51), ('S', 0.51), ('S', 0.51), ('S', 0.51), ('S', 0.47), ('S', 0.46), ('S', 0.51), ('S', 0.51), ('S', 0.49), ('S', 0.49), ('S', 0.62), ('S', 0.51), ('S', 0.51), ('S', 0.51), ('S', 0.48), ('S', 0.51), ('S', 0.49), ('S', 0.51), ('S', 0.51), ('S', 0.51), ('S', 0.51), ('S', 0.51), ('S', 0.54), ('S', 0.49), ('S', 0.51), ('S', 0.51), ('S', 0.49), ('S', 0.53), ('S', 0.51), ('S', 0.5), ('S', 0.52), ('S', 0.51), ('S', 0.51), ('S', 0.46), ('S', 0.49), ('S', 0.51), ('S', 0.47), ('S', 0.52), ('S', 0.52), ('S', 0.51), ('S', 0.41), ('S', 0.53), ('S', 0.38), ('S', 0.47), ('S', 0.49), ('S', 0.51), ('S', 0.51), ('S', 0.51), ('S', 0.51), ('S', 0.51), ('S', 0.51), ('S', 0.52), ('S', 0.51), ('S', 0.51), ('S', 0.51), ('S', 0.49), ('S', 0.44), ('S', 0.54), ('S', 0.51), ('S', 0.5), ('S', 0.46), ('S', 0.56), ('S', 0.51), ('S', 0.51), ('S', 0.51), ('S', 0.52), ('S', 0.53), ('S', 0.51), ('S', 0.51), ('S', 0.51), ('S', 0.44), ('S', 0.51), ('S', 0.47), ('S', 0.51), ('S', 0.51), ('S', 0.51), ('S', 0.51), ('S', 0.51), ('S', 0.42), ('S', 0.51), ('S', 0.46), ('S', 0.49), ('S', 0.52), ('S', 0.53), ('S', 0.61), ('S', 0.44), ('S', 0.51), ('S', 0.51), ('S', 0.62), ('S', 0.51), ('S', 0.47), ('S', 0.51), ('S', 0.52), ('S', 0.51), ('S', 0.51), ('S', 0.51), ('S', 0.52), ('S', 0.51), ('S', 0.52), ('S', 0.51), ('S', 0.52), ('S', 0.32), ('S', 0.52), ('S', 0.46), ('S', 0.47), ('S', 0.51), ('S', 0.42), ('S', 0.51), ('S', 0.51), ('S', 0.51), ('S', 0.51), ('S', 0.49), ('S', 0.49), ('S', 0.51), ('S', 0.51), ('S', 0.59), ('S', 0.51), ('S', 0.51), ('S', 0.52), ('S', 0.49), ('S', 0.52), ('S', 0.54), ('S', 0.49), ('S', 0.51), ('S', 0.51), ('S', 0.51), ('S', 0.49), ('S', 0.51), ('S', 0.51), ('S', 0.49), ('S', 0.51), ('S', 0.42), ('S', 0.51), ('S', 0.51), ('S', 0.47), ('S', 0.51), ('S', 0.51), ('S', 0.51), ('S', 0.48), ('S', 0.51), ('S', 0.51), ('S', 0.51), ('S', 0.51), ('S', 0.51), ('S', 0.51), ('S', 0.51), ('S', 0.51), ('S', 0.51), ('S', 0.49), ('S', 0.51), ('S', 0.51), ('S', 0.52), ('S', 0.51), ('S', 0.51), ('S', 0.51), ('S', 0.51), ('S', 0.52), ('S', 0.51), ('S', 0.46), ('S', 0.51), ('S', 0.49), ('S', 0.51), ('S', 0.44), ('S', 0.51), ('S', 0.51), ('S', 0.51), ('S', 0.52), ('S', 0.51), ('S', 0.51), ('S', 0.51), ('S', 0.51), ('S', 0.51), ('S', 0.51), ('S', 0.54), ('S', 0.51), ('S', 0.51), ('S', 0.51), ('S', 0.51), ('S', 0.52), ('S', 0.51), ('S', 0.52), ('S', 0.52), ('S', 0.51), ('S', 0.51), ('S', 0.51), ('S', 0.51), ('S', 0.51), ('S', 0.51), ('S', 0.51), ('S', 0.51), ('S', 0.52), ('S', 0.51), ('S', 0.53), ('S', 0.51), ('S', 0.52), ('S', 0.53), ('S', 0.42), ('S', 0.49), ('S', 0.49), ('S', 0.51), ('S', 0.49), ('S', 0.47), ('S', 0.51), ('S', 0.51), ('S', 0.51), ('S', 0.51), ('S', 0.51), ('S', 0.51), ('S', 0.49), ('S', 0.37), ('S', 0.52), ('S', 0.51), ('S', 0.51), ('S', 0.51), ('S', 0.53), ('S', 0.52), ('S', 0.51), ('S', 0.49), ('S', 0.51), ('S', 0.51), ('S', 0.51), ('S', 0.48), ('S', 0.51), ('S', 0.52), ('S', 0.47), ('S', 0.51), ('S', 0.51), ('S', 0.51), ('S', 0.47), ('S', 0.46), ('S', 0.51), ('S', 0.51), ('S', 0.51), ('S', 0.44), ('S', 0.47), ('S', 0.51), ('S', 0.51), ('S', 0.46), ('S', 0.44), ('S', 0.48), ('S', 0.5), ('S', 0.51), ('S', 0.49), ('S', 0.51), ('S', 0.51), ('S', 0.51), ('S', 0.51), ('S', 0.51), ('S', 0.51), ('S', 0.51), ('S', 0.51), ('S', 0.51), ('S', 0.49), ('S', 0.51), ('S', 0.47), ('S', 0.51), ('S', 0.51), ('S', 0.51), ('S', 0.51), ('S', 0.49), ('S', 0.51), ('S', 0.51), ('S', 0.51), ('S', 0.51), ('S', 0.51), ('S', 0.54), ('S', 0.49), ('S', 0.51), ('S', 0.51), ('S', 0.51)]\n",
            "\n",
            "Confusion Matrix:\n",
            "\n"
          ]
        },
        {
          "name": "stdout",
          "output_type": "stream",
          "text": [
            "Predicted Values    0    1\n",
            "Actual Values             \n",
            "0                 232   24\n",
            "1                 142  114\n",
            "Features and their importance:\n",
            "\n",
            "AxesSubplot(0.125,0.125;0.775x0.755)\n"
          ]
        },
        {
          "data": {
            "image/png": "[encoded data removed]",
            "text/plain": [
              "<matplotlib.figure.Figure at 0x1a244e9198>"
            ]
          },
          "metadata": {},
          "output_type": "display_data"
        }
      ],
      "source": [
        "rfscore_3(df_all,'binary',5)"
      ]
    },
    {
      "cell_type": "code",
      "execution_count": null,
      "metadata": {
        "id": "quWm9uMrqnRH"
      },
      "outputs": [],
      "source": []
    },
    {
      "cell_type": "code",
      "execution_count": null,
      "metadata": {
        "id": "hdGxb5ZuqnRI"
      },
      "outputs": [],
      "source": []
    },
    {
      "cell_type": "markdown",
      "metadata": {
        "id": "FCZuu8zHqnRI"
      },
      "source": [
        "## 8) Model Building V:  Predicting comments using a logistic regression:"
      ]
    },
    {
      "cell_type": "code",
      "execution_count": null,
      "metadata": {
        "id": "iEvfBroAqnRI",
        "outputId": "af215eec-dee7-4679-c54f-80c789d7ffc8"
      },
      "outputs": [
        {
          "data": {
            "text/plain": [
              "LogisticRegression(C=1.0, class_weight=None, dual=False, fit_intercept=True,\n",
              "          intercept_scaling=1, max_iter=100, multi_class='ovr', n_jobs=1,\n",
              "          penalty='l2', random_state=None, solver='liblinear', tol=0.0001,\n",
              "          verbose=0, warm_start=False)"
            ]
          },
          "execution_count": 277,
          "metadata": {},
          "output_type": "execute_result"
        }
      ],
      "source": [
        "X = df_all.drop('binary', axis=1)\n",
        "y = df_all['binary']\n",
        "X_train, X_test, y_train, y_test = train_test_split(X, y, test_size=0.3, random_state=42)\n",
        "logreg = LogisticRegression()\n",
        "logreg.fit(X_train, y_train)"
      ]
    },
    {
      "cell_type": "code",
      "execution_count": null,
      "metadata": {
        "scrolled": true,
        "id": "AIlEnxA0qnRI",
        "outputId": "f4975469-78a2-432c-9546-b38b97db968e"
      },
      "outputs": [
        {
          "name": "stdout",
          "output_type": "stream",
          "text": [
            "0.5324675324675324\n"
          ]
        }
      ],
      "source": [
        "y_pred_class = logreg.predict(X_test)\n",
        "from sklearn import metrics\n",
        "print(metrics.accuracy_score(y_test, y_pred_class))"
      ]
    },
    {
      "cell_type": "code",
      "execution_count": null,
      "metadata": {
        "id": "03spbBIKqnRI"
      },
      "outputs": [],
      "source": [
        "X = df_all.drop('binary', axis=1)\n",
        "y = df_all['binary']\n",
        "logregCV = LogisticRegressionCV()"
      ]
    },
    {
      "cell_type": "code",
      "execution_count": null,
      "metadata": {
        "id": "cyddYNDeqnRI",
        "outputId": "da8a3d07-8041-412c-fd5b-0f29cb1059d4"
      },
      "outputs": [
        {
          "name": "stdout",
          "output_type": "stream",
          "text": [
            "Logistic Regression CV Score:\t0.568 ± 0.029\n"
          ]
        }
      ],
      "source": [
        "s_CV = cross_val_score(logregCV, X, y, cv=5, n_jobs=-1)\n",
        "print(\"{} Score:\\t{:0.3} ± {:0.3}\".format(\"Logistic Regression CV\", s_CV.mean().round(3), s_CV.std().round(3)))"
      ]
    },
    {
      "cell_type": "markdown",
      "metadata": {
        "id": "Bd4we9uiqnRI"
      },
      "source": [
        "# Executive Summary\n",
        "---\n"
      ]
    },
    {
      "cell_type": "markdown",
      "metadata": {
        "id": "P9vmL32oqnRI"
      },
      "source": [
        "### Conclusions:\n",
        "\n",
        "1) The accuracy score is quite low, just slighly higher than the baseline when only the subreddits are considered.\n",
        "\n",
        "2) With the parameters ranges in the `GridSearchCV` fixed, including words in the threads in addition to only subreddits dummies in the set of predictors increased the accuracy of the model compared with the case where only the latter was used, but only slighly.\n",
        "\n",
        "3) The most significant gain came when we included a new hyperparameter, namely, `'min_samples_split` in the model and kept threads' words and subredddits as predictors. The accuracy in this case was close to 0.7.\n",
        "\n",
        "4) The most common words in the threads are 'get','like' and 'love'.\n",
        "\n",
        "5) The most important features in our best model were 'game', 'guy', both from the threads.\n",
        "\n",
        "6) In a nutshell our best model was obtained considering both subredddits as dummies and words on the threads and keeping `max_depth`,`min_samples_split` and `n_estimators` as parameters to be scanned by the `GridSearchCV`\n",
        "\n",
        "7) The obvious next step is to increase the number of scraped pages. Because our data was limited, we could not set a minimum frequency to the words. Taking only words that occur more frequently can help."
      ]
    },
    {
      "cell_type": "markdown",
      "metadata": {
        "collapsed": true,
        "id": "1QkHdS1oqnRJ"
      },
      "source": [
        "## References\n",
        "\n",
        "[1] https://github.com/myarolin/Natural_Language_Processing_with_Reddit"
      ]
    }
  ],
  "metadata": {
    "anaconda-cloud": {},
    "kernelspec": {
      "display_name": "Python [default]",
      "language": "python",
      "name": "python3"
    },
    "language_info": {
      "codemirror_mode": {
        "name": "ipython",
        "version": 3
      },
      "file_extension": ".py",
      "mimetype": "text/x-python",
      "name": "python",
      "nbconvert_exporter": "python",
      "pygments_lexer": "ipython3",
      "version": "3.6.4"
    },
    "varInspector": {
      "cols": {
        "lenName": 16,
        "lenType": 16,
        "lenVar": 40
      },
      "kernels_config": {
        "python": {
          "delete_cmd_postfix": "",
          "delete_cmd_prefix": "del ",
          "library": "var_list.py",
          "varRefreshCmd": "print(var_dic_list())"
        },
        "r": {
          "delete_cmd_postfix": ") ",
          "delete_cmd_prefix": "rm(",
          "library": "var_list.r",
          "varRefreshCmd": "cat(var_dic_list()) "
        }
      },
      "types_to_exclude": [
        "module",
        "function",
        "builtin_function_or_method",
        "instance",
        "_Feature"
      ],
      "window_display": false
    },
    "colab": {
      "provenance": []
    }
  },
  "nbformat": 4,
  "nbformat_minor": 0
}